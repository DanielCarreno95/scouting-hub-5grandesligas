{
 "cells": [
  {
   "cell_type": "code",
   "execution_count": 4,
   "id": "9dce05d4",
   "metadata": {},
   "outputs": [
    {
     "name": "stdout",
     "output_type": "stream",
     "text": [
      "Dataset URL: https://www.kaggle.com/datasets/hubertsidorowicz/football-players-stats-2024-2025\n",
      "✅ Dataset descargado y extraído en: data/players_2425\n",
      "Dataset URL: https://www.kaggle.com/datasets/hubertsidorowicz/football-players-stats-2025-2026\n",
      "✅ Dataset descargado y extraído en: data/players_2526\n"
     ]
    }
   ],
   "source": [
    "from kaggle.api.kaggle_api_extended import KaggleApi\n",
    "import os\n",
    "import pandas as pd\n",
    "\n",
    "# --- 🔧 Configura la ruta al archivo kaggle.json ---\n",
    "os.environ['KAGGLE_CONFIG_DIR'] = r\"C:\\Users\\Betan\\OneDrive\\Escritorio\\Estudios\\Masters\\Proyectos\\Proyecto United\\kaggle_api\"\n",
    "\n",
    "# --- 📥 Función para descargar datasets desde Kaggle ---\n",
    "def descargar_dataset_kaggle(dataset: str, ruta_destino: str) -> str:\n",
    "    os.makedirs(ruta_destino, exist_ok=True)\n",
    "    api = KaggleApi()\n",
    "    api.authenticate()  # Usa la variable de entorno configurada arriba\n",
    "    api.dataset_download_files(dataset=dataset, path=ruta_destino, unzip=True)\n",
    "    print(f\"✅ Dataset descargado y extraído en: {ruta_destino}\")\n",
    "    return ruta_destino\n",
    "\n",
    "# --- ⚽ Identificadores en Kaggle ---\n",
    "dataset_2425 = \"hubertsidorowicz/football-players-stats-2024-2025\"\n",
    "dataset_2526 = \"hubertsidorowicz/football-players-stats-2025-2026\"\n",
    "\n",
    "# --- 💾 Descargas en carpetas separadas ---\n",
    "ruta_2425 = descargar_dataset_kaggle(dataset_2425, \"data/players_2425\")\n",
    "ruta_2526 = descargar_dataset_kaggle(dataset_2526, \"data/players_2526\")\n"
   ]
  },
  {
   "cell_type": "code",
   "execution_count": 5,
   "id": "f7f715d2",
   "metadata": {},
   "outputs": [
    {
     "name": "stdout",
     "output_type": "stream",
     "text": [
      "(5096, 268)\n"
     ]
    },
    {
     "data": {
      "text/html": [
       "<div>\n",
       "<style scoped>\n",
       "    .dataframe tbody tr th:only-of-type {\n",
       "        vertical-align: middle;\n",
       "    }\n",
       "\n",
       "    .dataframe tbody tr th {\n",
       "        vertical-align: top;\n",
       "    }\n",
       "\n",
       "    .dataframe thead th {\n",
       "        text-align: right;\n",
       "    }\n",
       "</style>\n",
       "<table border=\"1\" class=\"dataframe\">\n",
       "  <thead>\n",
       "    <tr style=\"text-align: right;\">\n",
       "      <th></th>\n",
       "      <th>Rk</th>\n",
       "      <th>Player</th>\n",
       "      <th>Nation</th>\n",
       "      <th>Pos</th>\n",
       "      <th>Squad</th>\n",
       "      <th>Comp</th>\n",
       "      <th>Age</th>\n",
       "      <th>Born</th>\n",
       "      <th>MP</th>\n",
       "      <th>Starts</th>\n",
       "      <th>...</th>\n",
       "      <th>Thr</th>\n",
       "      <th>Launch%</th>\n",
       "      <th>AvgLen</th>\n",
       "      <th>Opp</th>\n",
       "      <th>Stp</th>\n",
       "      <th>Stp%</th>\n",
       "      <th>#OPA</th>\n",
       "      <th>#OPA/90</th>\n",
       "      <th>AvgDist</th>\n",
       "      <th>Season</th>\n",
       "    </tr>\n",
       "  </thead>\n",
       "  <tbody>\n",
       "    <tr>\n",
       "      <th>0</th>\n",
       "      <td>1</td>\n",
       "      <td>Max Aarons</td>\n",
       "      <td>eng ENG</td>\n",
       "      <td>DF</td>\n",
       "      <td>Bournemouth</td>\n",
       "      <td>eng Premier League</td>\n",
       "      <td>24.0</td>\n",
       "      <td>2000.0</td>\n",
       "      <td>3</td>\n",
       "      <td>1</td>\n",
       "      <td>...</td>\n",
       "      <td>NaN</td>\n",
       "      <td>NaN</td>\n",
       "      <td>NaN</td>\n",
       "      <td>NaN</td>\n",
       "      <td>NaN</td>\n",
       "      <td>NaN</td>\n",
       "      <td>NaN</td>\n",
       "      <td>NaN</td>\n",
       "      <td>NaN</td>\n",
       "      <td>2024/25</td>\n",
       "    </tr>\n",
       "    <tr>\n",
       "      <th>1</th>\n",
       "      <td>2</td>\n",
       "      <td>Max Aarons</td>\n",
       "      <td>eng ENG</td>\n",
       "      <td>DF,MF</td>\n",
       "      <td>Valencia</td>\n",
       "      <td>es La Liga</td>\n",
       "      <td>24.0</td>\n",
       "      <td>2000.0</td>\n",
       "      <td>4</td>\n",
       "      <td>1</td>\n",
       "      <td>...</td>\n",
       "      <td>NaN</td>\n",
       "      <td>NaN</td>\n",
       "      <td>NaN</td>\n",
       "      <td>NaN</td>\n",
       "      <td>NaN</td>\n",
       "      <td>NaN</td>\n",
       "      <td>NaN</td>\n",
       "      <td>NaN</td>\n",
       "      <td>NaN</td>\n",
       "      <td>2024/25</td>\n",
       "    </tr>\n",
       "    <tr>\n",
       "      <th>2</th>\n",
       "      <td>3</td>\n",
       "      <td>Rodrigo Abajas</td>\n",
       "      <td>es ESP</td>\n",
       "      <td>DF</td>\n",
       "      <td>Valencia</td>\n",
       "      <td>es La Liga</td>\n",
       "      <td>21.0</td>\n",
       "      <td>2003.0</td>\n",
       "      <td>1</td>\n",
       "      <td>1</td>\n",
       "      <td>...</td>\n",
       "      <td>NaN</td>\n",
       "      <td>NaN</td>\n",
       "      <td>NaN</td>\n",
       "      <td>NaN</td>\n",
       "      <td>NaN</td>\n",
       "      <td>NaN</td>\n",
       "      <td>NaN</td>\n",
       "      <td>NaN</td>\n",
       "      <td>NaN</td>\n",
       "      <td>2024/25</td>\n",
       "    </tr>\n",
       "    <tr>\n",
       "      <th>3</th>\n",
       "      <td>4</td>\n",
       "      <td>James Abankwah</td>\n",
       "      <td>ie IRL</td>\n",
       "      <td>DF,MF</td>\n",
       "      <td>Udinese</td>\n",
       "      <td>it Serie A</td>\n",
       "      <td>20.0</td>\n",
       "      <td>2004.0</td>\n",
       "      <td>6</td>\n",
       "      <td>0</td>\n",
       "      <td>...</td>\n",
       "      <td>NaN</td>\n",
       "      <td>NaN</td>\n",
       "      <td>NaN</td>\n",
       "      <td>NaN</td>\n",
       "      <td>NaN</td>\n",
       "      <td>NaN</td>\n",
       "      <td>NaN</td>\n",
       "      <td>NaN</td>\n",
       "      <td>NaN</td>\n",
       "      <td>2024/25</td>\n",
       "    </tr>\n",
       "    <tr>\n",
       "      <th>4</th>\n",
       "      <td>5</td>\n",
       "      <td>Keyliane Abdallah</td>\n",
       "      <td>fr FRA</td>\n",
       "      <td>FW</td>\n",
       "      <td>Marseille</td>\n",
       "      <td>fr Ligue 1</td>\n",
       "      <td>18.0</td>\n",
       "      <td>2006.0</td>\n",
       "      <td>1</td>\n",
       "      <td>0</td>\n",
       "      <td>...</td>\n",
       "      <td>NaN</td>\n",
       "      <td>NaN</td>\n",
       "      <td>NaN</td>\n",
       "      <td>NaN</td>\n",
       "      <td>NaN</td>\n",
       "      <td>NaN</td>\n",
       "      <td>NaN</td>\n",
       "      <td>NaN</td>\n",
       "      <td>NaN</td>\n",
       "      <td>2024/25</td>\n",
       "    </tr>\n",
       "  </tbody>\n",
       "</table>\n",
       "<p>5 rows × 268 columns</p>\n",
       "</div>"
      ],
      "text/plain": [
       "   Rk             Player   Nation    Pos        Squad                Comp  \\\n",
       "0   1         Max Aarons  eng ENG     DF  Bournemouth  eng Premier League   \n",
       "1   2         Max Aarons  eng ENG  DF,MF     Valencia          es La Liga   \n",
       "2   3     Rodrigo Abajas   es ESP     DF     Valencia          es La Liga   \n",
       "3   4     James Abankwah   ie IRL  DF,MF      Udinese          it Serie A   \n",
       "4   5  Keyliane Abdallah   fr FRA     FW    Marseille          fr Ligue 1   \n",
       "\n",
       "    Age    Born  MP  Starts  ...  Thr  Launch%  AvgLen  Opp  Stp  Stp%  #OPA  \\\n",
       "0  24.0  2000.0   3       1  ...  NaN      NaN     NaN  NaN  NaN   NaN   NaN   \n",
       "1  24.0  2000.0   4       1  ...  NaN      NaN     NaN  NaN  NaN   NaN   NaN   \n",
       "2  21.0  2003.0   1       1  ...  NaN      NaN     NaN  NaN  NaN   NaN   NaN   \n",
       "3  20.0  2004.0   6       0  ...  NaN      NaN     NaN  NaN  NaN   NaN   NaN   \n",
       "4  18.0  2006.0   1       0  ...  NaN      NaN     NaN  NaN  NaN   NaN   NaN   \n",
       "\n",
       "   #OPA/90  AvgDist   Season  \n",
       "0      NaN      NaN  2024/25  \n",
       "1      NaN      NaN  2024/25  \n",
       "2      NaN      NaN  2024/25  \n",
       "3      NaN      NaN  2024/25  \n",
       "4      NaN      NaN  2024/25  \n",
       "\n",
       "[5 rows x 268 columns]"
      ]
     },
     "execution_count": 5,
     "metadata": {},
     "output_type": "execute_result"
    }
   ],
   "source": [
    "def cargar_datos_jugadores(ruta_csv: str, temporada: str) -> pd.DataFrame:\n",
    "    df = pd.read_csv(ruta_csv, encoding=\"utf-8-sig\")\n",
    "    df[\"Season\"] = temporada\n",
    "    return df\n",
    "\n",
    "# Rutas de los CSV descargados\n",
    "ruta_csv_2425 = \"data/players_2425/players_data-2024_2025.csv\"\n",
    "ruta_csv_2526 = \"data/players_2526/players_data-2025_2026.csv\"\n",
    "\n",
    "# Cargar cada dataset con su temporada\n",
    "df_2425 = cargar_datos_jugadores(ruta_csv_2425, \"2024/25\")\n",
    "df_2526 = cargar_datos_jugadores(ruta_csv_2526, \"2025/26\")\n",
    "\n",
    "# Concatenar en un único DataFrame\n",
    "df_jugadores = pd.concat([df_2425, df_2526], ignore_index=True)\n",
    "\n",
    "# Vista previa\n",
    "print(df_jugadores.shape)\n",
    "df_jugadores.head()\n"
   ]
  },
  {
   "cell_type": "code",
   "execution_count": 6,
   "id": "cb26bb6a",
   "metadata": {},
   "outputs": [
    {
     "data": {
      "text/html": [
       "<div>\n",
       "<style scoped>\n",
       "    .dataframe tbody tr th:only-of-type {\n",
       "        vertical-align: middle;\n",
       "    }\n",
       "\n",
       "    .dataframe tbody tr th {\n",
       "        vertical-align: top;\n",
       "    }\n",
       "\n",
       "    .dataframe thead th {\n",
       "        text-align: right;\n",
       "    }\n",
       "</style>\n",
       "<table border=\"1\" class=\"dataframe\">\n",
       "  <thead>\n",
       "    <tr style=\"text-align: right;\">\n",
       "      <th></th>\n",
       "      <th>Rk</th>\n",
       "      <th>Player</th>\n",
       "      <th>Nation</th>\n",
       "      <th>Pos</th>\n",
       "      <th>Squad</th>\n",
       "      <th>Comp</th>\n",
       "      <th>Age</th>\n",
       "      <th>Born</th>\n",
       "      <th>MP</th>\n",
       "      <th>Starts</th>\n",
       "      <th>...</th>\n",
       "      <th>Thr</th>\n",
       "      <th>Launch%</th>\n",
       "      <th>AvgLen</th>\n",
       "      <th>Opp</th>\n",
       "      <th>Stp</th>\n",
       "      <th>Stp%</th>\n",
       "      <th>#OPA</th>\n",
       "      <th>#OPA/90</th>\n",
       "      <th>AvgDist</th>\n",
       "      <th>Season</th>\n",
       "    </tr>\n",
       "  </thead>\n",
       "  <tbody>\n",
       "    <tr>\n",
       "      <th>0</th>\n",
       "      <td>1</td>\n",
       "      <td>Max Aarons</td>\n",
       "      <td>eng ENG</td>\n",
       "      <td>DF</td>\n",
       "      <td>Bournemouth</td>\n",
       "      <td>eng Premier League</td>\n",
       "      <td>24.0</td>\n",
       "      <td>2000.0</td>\n",
       "      <td>3</td>\n",
       "      <td>1</td>\n",
       "      <td>...</td>\n",
       "      <td>NaN</td>\n",
       "      <td>NaN</td>\n",
       "      <td>NaN</td>\n",
       "      <td>NaN</td>\n",
       "      <td>NaN</td>\n",
       "      <td>NaN</td>\n",
       "      <td>NaN</td>\n",
       "      <td>NaN</td>\n",
       "      <td>NaN</td>\n",
       "      <td>2024/25</td>\n",
       "    </tr>\n",
       "    <tr>\n",
       "      <th>1</th>\n",
       "      <td>2</td>\n",
       "      <td>Max Aarons</td>\n",
       "      <td>eng ENG</td>\n",
       "      <td>DF,MF</td>\n",
       "      <td>Valencia</td>\n",
       "      <td>es La Liga</td>\n",
       "      <td>24.0</td>\n",
       "      <td>2000.0</td>\n",
       "      <td>4</td>\n",
       "      <td>1</td>\n",
       "      <td>...</td>\n",
       "      <td>NaN</td>\n",
       "      <td>NaN</td>\n",
       "      <td>NaN</td>\n",
       "      <td>NaN</td>\n",
       "      <td>NaN</td>\n",
       "      <td>NaN</td>\n",
       "      <td>NaN</td>\n",
       "      <td>NaN</td>\n",
       "      <td>NaN</td>\n",
       "      <td>2024/25</td>\n",
       "    </tr>\n",
       "    <tr>\n",
       "      <th>2</th>\n",
       "      <td>3</td>\n",
       "      <td>Rodrigo Abajas</td>\n",
       "      <td>es ESP</td>\n",
       "      <td>DF</td>\n",
       "      <td>Valencia</td>\n",
       "      <td>es La Liga</td>\n",
       "      <td>21.0</td>\n",
       "      <td>2003.0</td>\n",
       "      <td>1</td>\n",
       "      <td>1</td>\n",
       "      <td>...</td>\n",
       "      <td>NaN</td>\n",
       "      <td>NaN</td>\n",
       "      <td>NaN</td>\n",
       "      <td>NaN</td>\n",
       "      <td>NaN</td>\n",
       "      <td>NaN</td>\n",
       "      <td>NaN</td>\n",
       "      <td>NaN</td>\n",
       "      <td>NaN</td>\n",
       "      <td>2024/25</td>\n",
       "    </tr>\n",
       "    <tr>\n",
       "      <th>3</th>\n",
       "      <td>4</td>\n",
       "      <td>James Abankwah</td>\n",
       "      <td>ie IRL</td>\n",
       "      <td>DF,MF</td>\n",
       "      <td>Udinese</td>\n",
       "      <td>it Serie A</td>\n",
       "      <td>20.0</td>\n",
       "      <td>2004.0</td>\n",
       "      <td>6</td>\n",
       "      <td>0</td>\n",
       "      <td>...</td>\n",
       "      <td>NaN</td>\n",
       "      <td>NaN</td>\n",
       "      <td>NaN</td>\n",
       "      <td>NaN</td>\n",
       "      <td>NaN</td>\n",
       "      <td>NaN</td>\n",
       "      <td>NaN</td>\n",
       "      <td>NaN</td>\n",
       "      <td>NaN</td>\n",
       "      <td>2024/25</td>\n",
       "    </tr>\n",
       "    <tr>\n",
       "      <th>4</th>\n",
       "      <td>5</td>\n",
       "      <td>Keyliane Abdallah</td>\n",
       "      <td>fr FRA</td>\n",
       "      <td>FW</td>\n",
       "      <td>Marseille</td>\n",
       "      <td>fr Ligue 1</td>\n",
       "      <td>18.0</td>\n",
       "      <td>2006.0</td>\n",
       "      <td>1</td>\n",
       "      <td>0</td>\n",
       "      <td>...</td>\n",
       "      <td>NaN</td>\n",
       "      <td>NaN</td>\n",
       "      <td>NaN</td>\n",
       "      <td>NaN</td>\n",
       "      <td>NaN</td>\n",
       "      <td>NaN</td>\n",
       "      <td>NaN</td>\n",
       "      <td>NaN</td>\n",
       "      <td>NaN</td>\n",
       "      <td>2024/25</td>\n",
       "    </tr>\n",
       "  </tbody>\n",
       "</table>\n",
       "<p>5 rows × 268 columns</p>\n",
       "</div>"
      ],
      "text/plain": [
       "   Rk             Player   Nation    Pos        Squad                Comp  \\\n",
       "0   1         Max Aarons  eng ENG     DF  Bournemouth  eng Premier League   \n",
       "1   2         Max Aarons  eng ENG  DF,MF     Valencia          es La Liga   \n",
       "2   3     Rodrigo Abajas   es ESP     DF     Valencia          es La Liga   \n",
       "3   4     James Abankwah   ie IRL  DF,MF      Udinese          it Serie A   \n",
       "4   5  Keyliane Abdallah   fr FRA     FW    Marseille          fr Ligue 1   \n",
       "\n",
       "    Age    Born  MP  Starts  ...  Thr  Launch%  AvgLen  Opp  Stp  Stp%  #OPA  \\\n",
       "0  24.0  2000.0   3       1  ...  NaN      NaN     NaN  NaN  NaN   NaN   NaN   \n",
       "1  24.0  2000.0   4       1  ...  NaN      NaN     NaN  NaN  NaN   NaN   NaN   \n",
       "2  21.0  2003.0   1       1  ...  NaN      NaN     NaN  NaN  NaN   NaN   NaN   \n",
       "3  20.0  2004.0   6       0  ...  NaN      NaN     NaN  NaN  NaN   NaN   NaN   \n",
       "4  18.0  2006.0   1       0  ...  NaN      NaN     NaN  NaN  NaN   NaN   NaN   \n",
       "\n",
       "   #OPA/90  AvgDist   Season  \n",
       "0      NaN      NaN  2024/25  \n",
       "1      NaN      NaN  2024/25  \n",
       "2      NaN      NaN  2024/25  \n",
       "3      NaN      NaN  2024/25  \n",
       "4      NaN      NaN  2024/25  \n",
       "\n",
       "[5 rows x 268 columns]"
      ]
     },
     "execution_count": 6,
     "metadata": {},
     "output_type": "execute_result"
    }
   ],
   "source": [
    "# Identificar columnas numéricas (sin imputar todavía)\n",
    "columnas_numericas = df_jugadores.select_dtypes(include=[\"number\"]).columns\n",
    "\n",
    "# Vista previa\n",
    "df_jugadores.head()\n"
   ]
  },
  {
   "cell_type": "code",
   "execution_count": 7,
   "id": "b2fb06aa",
   "metadata": {},
   "outputs": [
    {
     "data": {
      "text/html": [
       "<div>\n",
       "<style scoped>\n",
       "    .dataframe tbody tr th:only-of-type {\n",
       "        vertical-align: middle;\n",
       "    }\n",
       "\n",
       "    .dataframe tbody tr th {\n",
       "        vertical-align: top;\n",
       "    }\n",
       "\n",
       "    .dataframe thead th {\n",
       "        text-align: right;\n",
       "    }\n",
       "</style>\n",
       "<table border=\"1\" class=\"dataframe\">\n",
       "  <thead>\n",
       "    <tr style=\"text-align: right;\">\n",
       "      <th></th>\n",
       "      <th>Player</th>\n",
       "      <th>Nation</th>\n",
       "      <th>Comp</th>\n",
       "      <th>Season</th>\n",
       "    </tr>\n",
       "  </thead>\n",
       "  <tbody>\n",
       "    <tr>\n",
       "      <th>0</th>\n",
       "      <td>Max Aarons</td>\n",
       "      <td>ENG</td>\n",
       "      <td>Premier League</td>\n",
       "      <td>2024/25</td>\n",
       "    </tr>\n",
       "    <tr>\n",
       "      <th>1</th>\n",
       "      <td>Max Aarons</td>\n",
       "      <td>ENG</td>\n",
       "      <td>La Liga</td>\n",
       "      <td>2024/25</td>\n",
       "    </tr>\n",
       "    <tr>\n",
       "      <th>2</th>\n",
       "      <td>Rodrigo Abajas</td>\n",
       "      <td>ESP</td>\n",
       "      <td>La Liga</td>\n",
       "      <td>2024/25</td>\n",
       "    </tr>\n",
       "    <tr>\n",
       "      <th>3</th>\n",
       "      <td>James Abankwah</td>\n",
       "      <td>IRL</td>\n",
       "      <td>Serie A</td>\n",
       "      <td>2024/25</td>\n",
       "    </tr>\n",
       "    <tr>\n",
       "      <th>4</th>\n",
       "      <td>Keyliane Abdallah</td>\n",
       "      <td>FRA</td>\n",
       "      <td>Ligue 1</td>\n",
       "      <td>2024/25</td>\n",
       "    </tr>\n",
       "    <tr>\n",
       "      <th>5</th>\n",
       "      <td>Yunis Abdelhamid</td>\n",
       "      <td>MAR</td>\n",
       "      <td>Ligue 1</td>\n",
       "      <td>2024/25</td>\n",
       "    </tr>\n",
       "    <tr>\n",
       "      <th>6</th>\n",
       "      <td>Himad Abdelli</td>\n",
       "      <td>ALG</td>\n",
       "      <td>Ligue 1</td>\n",
       "      <td>2024/25</td>\n",
       "    </tr>\n",
       "    <tr>\n",
       "      <th>7</th>\n",
       "      <td>Mohamed Abdelmoneim</td>\n",
       "      <td>EGY</td>\n",
       "      <td>Ligue 1</td>\n",
       "      <td>2024/25</td>\n",
       "    </tr>\n",
       "    <tr>\n",
       "      <th>8</th>\n",
       "      <td>Ali Abdi</td>\n",
       "      <td>TUN</td>\n",
       "      <td>Ligue 1</td>\n",
       "      <td>2024/25</td>\n",
       "    </tr>\n",
       "    <tr>\n",
       "      <th>9</th>\n",
       "      <td>Saud Abdulhamid</td>\n",
       "      <td>KSA</td>\n",
       "      <td>Serie A</td>\n",
       "      <td>2024/25</td>\n",
       "    </tr>\n",
       "  </tbody>\n",
       "</table>\n",
       "</div>"
      ],
      "text/plain": [
       "                Player Nation            Comp   Season\n",
       "0           Max Aarons    ENG  Premier League  2024/25\n",
       "1           Max Aarons    ENG         La Liga  2024/25\n",
       "2       Rodrigo Abajas    ESP         La Liga  2024/25\n",
       "3       James Abankwah    IRL         Serie A  2024/25\n",
       "4    Keyliane Abdallah    FRA         Ligue 1  2024/25\n",
       "5     Yunis Abdelhamid    MAR         Ligue 1  2024/25\n",
       "6        Himad Abdelli    ALG         Ligue 1  2024/25\n",
       "7  Mohamed Abdelmoneim    EGY         Ligue 1  2024/25\n",
       "8             Ali Abdi    TUN         Ligue 1  2024/25\n",
       "9      Saud Abdulhamid    KSA         Serie A  2024/25"
      ]
     },
     "execution_count": 7,
     "metadata": {},
     "output_type": "execute_result"
    }
   ],
   "source": [
    "# Paso 1: Normalizar nombres de ligas y nacionalidades\n",
    "liga_map = {\n",
    "    \"eng Premier League\": \"Premier League\",\n",
    "    \"es La Liga\": \"La Liga\",\n",
    "    \"de Bundesliga\": \"Bundesliga\",\n",
    "    \"fr Ligue 1\": \"Ligue 1\",\n",
    "    \"it Serie A\": \"Serie A\"\n",
    "}\n",
    "\n",
    "# Aplicar reemplazo controlado\n",
    "df_jugadores[\"Comp\"] = df_jugadores[\"Comp\"].replace(liga_map)\n",
    "\n",
    "# Mantener solo los últimos 3 caracteres del campo 'Nation'\n",
    "df_jugadores[\"Nation\"] = df_jugadores[\"Nation\"].astype(str).str[-3:]\n",
    "\n",
    "# Verificación visual\n",
    "df_jugadores[[\"Player\", \"Nation\", \"Comp\", \"Season\"]].head(10)\n"
   ]
  },
  {
   "cell_type": "code",
   "execution_count": 8,
   "id": "91982bd0",
   "metadata": {},
   "outputs": [
    {
     "data": {
      "text/html": [
       "<div>\n",
       "<style scoped>\n",
       "    .dataframe tbody tr th:only-of-type {\n",
       "        vertical-align: middle;\n",
       "    }\n",
       "\n",
       "    .dataframe tbody tr th {\n",
       "        vertical-align: top;\n",
       "    }\n",
       "\n",
       "    .dataframe thead th {\n",
       "        text-align: right;\n",
       "    }\n",
       "</style>\n",
       "<table border=\"1\" class=\"dataframe\">\n",
       "  <thead>\n",
       "    <tr style=\"text-align: right;\">\n",
       "      <th></th>\n",
       "      <th>Player</th>\n",
       "      <th>Pos</th>\n",
       "      <th>Rol_Tactico</th>\n",
       "      <th>Comp</th>\n",
       "      <th>Season</th>\n",
       "    </tr>\n",
       "  </thead>\n",
       "  <tbody>\n",
       "    <tr>\n",
       "      <th>0</th>\n",
       "      <td>Max Aarons</td>\n",
       "      <td>DF</td>\n",
       "      <td>Defensa</td>\n",
       "      <td>Premier League</td>\n",
       "      <td>2024/25</td>\n",
       "    </tr>\n",
       "    <tr>\n",
       "      <th>1</th>\n",
       "      <td>Max Aarons</td>\n",
       "      <td>DF,MF</td>\n",
       "      <td>Defensa</td>\n",
       "      <td>La Liga</td>\n",
       "      <td>2024/25</td>\n",
       "    </tr>\n",
       "    <tr>\n",
       "      <th>2</th>\n",
       "      <td>Rodrigo Abajas</td>\n",
       "      <td>DF</td>\n",
       "      <td>Defensa</td>\n",
       "      <td>La Liga</td>\n",
       "      <td>2024/25</td>\n",
       "    </tr>\n",
       "    <tr>\n",
       "      <th>3</th>\n",
       "      <td>James Abankwah</td>\n",
       "      <td>DF,MF</td>\n",
       "      <td>Defensa</td>\n",
       "      <td>Serie A</td>\n",
       "      <td>2024/25</td>\n",
       "    </tr>\n",
       "    <tr>\n",
       "      <th>4</th>\n",
       "      <td>Keyliane Abdallah</td>\n",
       "      <td>FW</td>\n",
       "      <td>Atacante</td>\n",
       "      <td>Ligue 1</td>\n",
       "      <td>2024/25</td>\n",
       "    </tr>\n",
       "    <tr>\n",
       "      <th>5</th>\n",
       "      <td>Yunis Abdelhamid</td>\n",
       "      <td>DF</td>\n",
       "      <td>Defensa</td>\n",
       "      <td>Ligue 1</td>\n",
       "      <td>2024/25</td>\n",
       "    </tr>\n",
       "    <tr>\n",
       "      <th>6</th>\n",
       "      <td>Himad Abdelli</td>\n",
       "      <td>MF,FW</td>\n",
       "      <td>Centrocampista</td>\n",
       "      <td>Ligue 1</td>\n",
       "      <td>2024/25</td>\n",
       "    </tr>\n",
       "    <tr>\n",
       "      <th>7</th>\n",
       "      <td>Mohamed Abdelmoneim</td>\n",
       "      <td>DF</td>\n",
       "      <td>Defensa</td>\n",
       "      <td>Ligue 1</td>\n",
       "      <td>2024/25</td>\n",
       "    </tr>\n",
       "    <tr>\n",
       "      <th>8</th>\n",
       "      <td>Ali Abdi</td>\n",
       "      <td>DF,MF</td>\n",
       "      <td>Defensa</td>\n",
       "      <td>Ligue 1</td>\n",
       "      <td>2024/25</td>\n",
       "    </tr>\n",
       "    <tr>\n",
       "      <th>9</th>\n",
       "      <td>Saud Abdulhamid</td>\n",
       "      <td>DF</td>\n",
       "      <td>Defensa</td>\n",
       "      <td>Serie A</td>\n",
       "      <td>2024/25</td>\n",
       "    </tr>\n",
       "  </tbody>\n",
       "</table>\n",
       "</div>"
      ],
      "text/plain": [
       "                Player    Pos     Rol_Tactico            Comp   Season\n",
       "0           Max Aarons     DF         Defensa  Premier League  2024/25\n",
       "1           Max Aarons  DF,MF         Defensa         La Liga  2024/25\n",
       "2       Rodrigo Abajas     DF         Defensa         La Liga  2024/25\n",
       "3       James Abankwah  DF,MF         Defensa         Serie A  2024/25\n",
       "4    Keyliane Abdallah     FW        Atacante         Ligue 1  2024/25\n",
       "5     Yunis Abdelhamid     DF         Defensa         Ligue 1  2024/25\n",
       "6        Himad Abdelli  MF,FW  Centrocampista         Ligue 1  2024/25\n",
       "7  Mohamed Abdelmoneim     DF         Defensa         Ligue 1  2024/25\n",
       "8             Ali Abdi  DF,MF         Defensa         Ligue 1  2024/25\n",
       "9      Saud Abdulhamid     DF         Defensa         Serie A  2024/25"
      ]
     },
     "execution_count": 8,
     "metadata": {},
     "output_type": "execute_result"
    }
   ],
   "source": [
    "# Paso 2: Clasificación táctica generalizada basada en el primer código de la columna Pos\n",
    "def clasificar_rol_general(pos):\n",
    "    if pd.isna(pos):\n",
    "        return \"Otro\"\n",
    "    primera_pos = str(pos).split(\",\")[0].strip()\n",
    "    if primera_pos.startswith(\"GK\"):\n",
    "        return \"Portero\"\n",
    "    elif primera_pos.startswith(\"DF\"):\n",
    "        return \"Defensa\"\n",
    "    elif primera_pos.startswith(\"MF\"):\n",
    "        return \"Centrocampista\"\n",
    "    elif primera_pos.startswith(\"FW\"):\n",
    "        return \"Atacante\"\n",
    "    else:\n",
    "        return \"Otro\"\n",
    "\n",
    "# Crear la columna Rol_Tactico directamente desde Pos\n",
    "df_jugadores[\"Rol_Tactico\"] = df_jugadores[\"Pos\"].apply(clasificar_rol_general)\n",
    "\n",
    "# Reordenar columna 'Rol_Tactico' justo después de 'Pos'\n",
    "columnas = df_jugadores.columns.tolist()\n",
    "columnas.remove(\"Rol_Tactico\")\n",
    "indice_pos = columnas.index(\"Pos\") + 1\n",
    "columnas.insert(indice_pos, \"Rol_Tactico\")\n",
    "\n",
    "# Aplicar nuevo orden\n",
    "df_jugadores = df_jugadores[columnas]\n",
    "\n",
    "# Verificación visual\n",
    "df_jugadores[[\"Player\", \"Pos\", \"Rol_Tactico\", \"Comp\", \"Season\"]].head(10)\n"
   ]
  },
  {
   "cell_type": "code",
   "execution_count": 30,
   "id": "96f188cf",
   "metadata": {},
   "outputs": [
    {
     "name": "stdout",
     "output_type": "stream",
     "text": [
      "✅ Porcentajes normalizados (0–100) antes de calcular per-90.\n",
      "📊 Se recalcularán 95 métricas como 'per90'.\n",
      "🔹 Ejemplo: ['Rk', 'PrgC', 'PrgP', 'PrgR', 'Rk_stats_shooting', 'Born_stats_shooting', 'Sh', 'Dist', 'Rk_stats_passing', 'Born_stats_passing']\n",
      "✅ Cálculo de métricas per-90 completado (versión corregida).\n"
     ]
    },
    {
     "name": "stderr",
     "output_type": "stream",
     "text": [
      "C:\\Users\\Betan\\AppData\\Local\\Temp\\ipykernel_25796\\3666488080.py:94: PerformanceWarning:\n",
      "\n",
      "DataFrame is highly fragmented.  This is usually the result of calling `frame.insert` many times, which has poor performance.  Consider joining all columns at once using pd.concat(axis=1) instead. To get a de-fragmented frame, use `newframe = frame.copy()`\n",
      "\n",
      "C:\\Users\\Betan\\AppData\\Local\\Temp\\ipykernel_25796\\3666488080.py:94: PerformanceWarning:\n",
      "\n",
      "DataFrame is highly fragmented.  This is usually the result of calling `frame.insert` many times, which has poor performance.  Consider joining all columns at once using pd.concat(axis=1) instead. To get a de-fragmented frame, use `newframe = frame.copy()`\n",
      "\n",
      "C:\\Users\\Betan\\AppData\\Local\\Temp\\ipykernel_25796\\3666488080.py:94: PerformanceWarning:\n",
      "\n",
      "DataFrame is highly fragmented.  This is usually the result of calling `frame.insert` many times, which has poor performance.  Consider joining all columns at once using pd.concat(axis=1) instead. To get a de-fragmented frame, use `newframe = frame.copy()`\n",
      "\n",
      "C:\\Users\\Betan\\AppData\\Local\\Temp\\ipykernel_25796\\3666488080.py:94: PerformanceWarning:\n",
      "\n",
      "DataFrame is highly fragmented.  This is usually the result of calling `frame.insert` many times, which has poor performance.  Consider joining all columns at once using pd.concat(axis=1) instead. To get a de-fragmented frame, use `newframe = frame.copy()`\n",
      "\n",
      "C:\\Users\\Betan\\AppData\\Local\\Temp\\ipykernel_25796\\3666488080.py:94: PerformanceWarning:\n",
      "\n",
      "DataFrame is highly fragmented.  This is usually the result of calling `frame.insert` many times, which has poor performance.  Consider joining all columns at once using pd.concat(axis=1) instead. To get a de-fragmented frame, use `newframe = frame.copy()`\n",
      "\n",
      "C:\\Users\\Betan\\AppData\\Local\\Temp\\ipykernel_25796\\3666488080.py:94: PerformanceWarning:\n",
      "\n",
      "DataFrame is highly fragmented.  This is usually the result of calling `frame.insert` many times, which has poor performance.  Consider joining all columns at once using pd.concat(axis=1) instead. To get a de-fragmented frame, use `newframe = frame.copy()`\n",
      "\n",
      "C:\\Users\\Betan\\AppData\\Local\\Temp\\ipykernel_25796\\3666488080.py:94: PerformanceWarning:\n",
      "\n",
      "DataFrame is highly fragmented.  This is usually the result of calling `frame.insert` many times, which has poor performance.  Consider joining all columns at once using pd.concat(axis=1) instead. To get a de-fragmented frame, use `newframe = frame.copy()`\n",
      "\n",
      "C:\\Users\\Betan\\AppData\\Local\\Temp\\ipykernel_25796\\3666488080.py:94: PerformanceWarning:\n",
      "\n",
      "DataFrame is highly fragmented.  This is usually the result of calling `frame.insert` many times, which has poor performance.  Consider joining all columns at once using pd.concat(axis=1) instead. To get a de-fragmented frame, use `newframe = frame.copy()`\n",
      "\n",
      "C:\\Users\\Betan\\AppData\\Local\\Temp\\ipykernel_25796\\3666488080.py:94: PerformanceWarning:\n",
      "\n",
      "DataFrame is highly fragmented.  This is usually the result of calling `frame.insert` many times, which has poor performance.  Consider joining all columns at once using pd.concat(axis=1) instead. To get a de-fragmented frame, use `newframe = frame.copy()`\n",
      "\n",
      "C:\\Users\\Betan\\AppData\\Local\\Temp\\ipykernel_25796\\3666488080.py:94: PerformanceWarning:\n",
      "\n",
      "DataFrame is highly fragmented.  This is usually the result of calling `frame.insert` many times, which has poor performance.  Consider joining all columns at once using pd.concat(axis=1) instead. To get a de-fragmented frame, use `newframe = frame.copy()`\n",
      "\n",
      "C:\\Users\\Betan\\AppData\\Local\\Temp\\ipykernel_25796\\3666488080.py:94: PerformanceWarning:\n",
      "\n",
      "DataFrame is highly fragmented.  This is usually the result of calling `frame.insert` many times, which has poor performance.  Consider joining all columns at once using pd.concat(axis=1) instead. To get a de-fragmented frame, use `newframe = frame.copy()`\n",
      "\n",
      "C:\\Users\\Betan\\AppData\\Local\\Temp\\ipykernel_25796\\3666488080.py:94: PerformanceWarning:\n",
      "\n",
      "DataFrame is highly fragmented.  This is usually the result of calling `frame.insert` many times, which has poor performance.  Consider joining all columns at once using pd.concat(axis=1) instead. To get a de-fragmented frame, use `newframe = frame.copy()`\n",
      "\n",
      "C:\\Users\\Betan\\AppData\\Local\\Temp\\ipykernel_25796\\3666488080.py:94: PerformanceWarning:\n",
      "\n",
      "DataFrame is highly fragmented.  This is usually the result of calling `frame.insert` many times, which has poor performance.  Consider joining all columns at once using pd.concat(axis=1) instead. To get a de-fragmented frame, use `newframe = frame.copy()`\n",
      "\n",
      "C:\\Users\\Betan\\AppData\\Local\\Temp\\ipykernel_25796\\3666488080.py:94: PerformanceWarning:\n",
      "\n",
      "DataFrame is highly fragmented.  This is usually the result of calling `frame.insert` many times, which has poor performance.  Consider joining all columns at once using pd.concat(axis=1) instead. To get a de-fragmented frame, use `newframe = frame.copy()`\n",
      "\n",
      "C:\\Users\\Betan\\AppData\\Local\\Temp\\ipykernel_25796\\3666488080.py:94: PerformanceWarning:\n",
      "\n",
      "DataFrame is highly fragmented.  This is usually the result of calling `frame.insert` many times, which has poor performance.  Consider joining all columns at once using pd.concat(axis=1) instead. To get a de-fragmented frame, use `newframe = frame.copy()`\n",
      "\n",
      "C:\\Users\\Betan\\AppData\\Local\\Temp\\ipykernel_25796\\3666488080.py:94: PerformanceWarning:\n",
      "\n",
      "DataFrame is highly fragmented.  This is usually the result of calling `frame.insert` many times, which has poor performance.  Consider joining all columns at once using pd.concat(axis=1) instead. To get a de-fragmented frame, use `newframe = frame.copy()`\n",
      "\n",
      "C:\\Users\\Betan\\AppData\\Local\\Temp\\ipykernel_25796\\3666488080.py:94: PerformanceWarning:\n",
      "\n",
      "DataFrame is highly fragmented.  This is usually the result of calling `frame.insert` many times, which has poor performance.  Consider joining all columns at once using pd.concat(axis=1) instead. To get a de-fragmented frame, use `newframe = frame.copy()`\n",
      "\n",
      "C:\\Users\\Betan\\AppData\\Local\\Temp\\ipykernel_25796\\3666488080.py:94: PerformanceWarning:\n",
      "\n",
      "DataFrame is highly fragmented.  This is usually the result of calling `frame.insert` many times, which has poor performance.  Consider joining all columns at once using pd.concat(axis=1) instead. To get a de-fragmented frame, use `newframe = frame.copy()`\n",
      "\n",
      "C:\\Users\\Betan\\AppData\\Local\\Temp\\ipykernel_25796\\3666488080.py:94: PerformanceWarning:\n",
      "\n",
      "DataFrame is highly fragmented.  This is usually the result of calling `frame.insert` many times, which has poor performance.  Consider joining all columns at once using pd.concat(axis=1) instead. To get a de-fragmented frame, use `newframe = frame.copy()`\n",
      "\n",
      "C:\\Users\\Betan\\AppData\\Local\\Temp\\ipykernel_25796\\3666488080.py:94: PerformanceWarning:\n",
      "\n",
      "DataFrame is highly fragmented.  This is usually the result of calling `frame.insert` many times, which has poor performance.  Consider joining all columns at once using pd.concat(axis=1) instead. To get a de-fragmented frame, use `newframe = frame.copy()`\n",
      "\n",
      "C:\\Users\\Betan\\AppData\\Local\\Temp\\ipykernel_25796\\3666488080.py:94: PerformanceWarning:\n",
      "\n",
      "DataFrame is highly fragmented.  This is usually the result of calling `frame.insert` many times, which has poor performance.  Consider joining all columns at once using pd.concat(axis=1) instead. To get a de-fragmented frame, use `newframe = frame.copy()`\n",
      "\n"
     ]
    },
    {
     "data": {
      "text/html": [
       "<div>\n",
       "<style scoped>\n",
       "    .dataframe tbody tr th:only-of-type {\n",
       "        vertical-align: middle;\n",
       "    }\n",
       "\n",
       "    .dataframe tbody tr th {\n",
       "        vertical-align: top;\n",
       "    }\n",
       "\n",
       "    .dataframe thead th {\n",
       "        text-align: right;\n",
       "    }\n",
       "</style>\n",
       "<table border=\"1\" class=\"dataframe\">\n",
       "  <thead>\n",
       "    <tr style=\"text-align: right;\">\n",
       "      <th></th>\n",
       "      <th>Rk</th>\n",
       "      <th>Player</th>\n",
       "      <th>Nation</th>\n",
       "      <th>Pos</th>\n",
       "      <th>Rol_Tactico</th>\n",
       "      <th>Squad</th>\n",
       "      <th>Comp</th>\n",
       "      <th>Age</th>\n",
       "      <th>Born</th>\n",
       "      <th>MP</th>\n",
       "      <th>...</th>\n",
       "      <th>90s_stats_keeper_adv_per90</th>\n",
       "      <th>GA_stats_keeper_adv_per90</th>\n",
       "      <th>PSxG_per90</th>\n",
       "      <th>Cmp_stats_keeper_adv_per90</th>\n",
       "      <th>Att_stats_keeper_adv_per90</th>\n",
       "      <th>Att (GK)_per90</th>\n",
       "      <th>Thr_per90</th>\n",
       "      <th>Opp_per90</th>\n",
       "      <th>Stp_per90</th>\n",
       "      <th>#OPA_per90</th>\n",
       "    </tr>\n",
       "  </thead>\n",
       "  <tbody>\n",
       "    <tr>\n",
       "      <th>0</th>\n",
       "      <td>1</td>\n",
       "      <td>Max Aarons</td>\n",
       "      <td>ENG</td>\n",
       "      <td>DF</td>\n",
       "      <td>Defensa</td>\n",
       "      <td>Bournemouth</td>\n",
       "      <td>Premier League</td>\n",
       "      <td>24.0</td>\n",
       "      <td>2000.0</td>\n",
       "      <td>3</td>\n",
       "      <td>...</td>\n",
       "      <td>NaN</td>\n",
       "      <td>NaN</td>\n",
       "      <td>NaN</td>\n",
       "      <td>NaN</td>\n",
       "      <td>NaN</td>\n",
       "      <td>NaN</td>\n",
       "      <td>NaN</td>\n",
       "      <td>NaN</td>\n",
       "      <td>NaN</td>\n",
       "      <td>NaN</td>\n",
       "    </tr>\n",
       "    <tr>\n",
       "      <th>1</th>\n",
       "      <td>2</td>\n",
       "      <td>Max Aarons</td>\n",
       "      <td>ENG</td>\n",
       "      <td>DF,MF</td>\n",
       "      <td>Defensa</td>\n",
       "      <td>Valencia</td>\n",
       "      <td>La Liga</td>\n",
       "      <td>24.0</td>\n",
       "      <td>2000.0</td>\n",
       "      <td>4</td>\n",
       "      <td>...</td>\n",
       "      <td>NaN</td>\n",
       "      <td>NaN</td>\n",
       "      <td>NaN</td>\n",
       "      <td>NaN</td>\n",
       "      <td>NaN</td>\n",
       "      <td>NaN</td>\n",
       "      <td>NaN</td>\n",
       "      <td>NaN</td>\n",
       "      <td>NaN</td>\n",
       "      <td>NaN</td>\n",
       "    </tr>\n",
       "    <tr>\n",
       "      <th>2</th>\n",
       "      <td>3</td>\n",
       "      <td>Rodrigo Abajas</td>\n",
       "      <td>ESP</td>\n",
       "      <td>DF</td>\n",
       "      <td>Defensa</td>\n",
       "      <td>Valencia</td>\n",
       "      <td>La Liga</td>\n",
       "      <td>21.0</td>\n",
       "      <td>2003.0</td>\n",
       "      <td>1</td>\n",
       "      <td>...</td>\n",
       "      <td>NaN</td>\n",
       "      <td>NaN</td>\n",
       "      <td>NaN</td>\n",
       "      <td>NaN</td>\n",
       "      <td>NaN</td>\n",
       "      <td>NaN</td>\n",
       "      <td>NaN</td>\n",
       "      <td>NaN</td>\n",
       "      <td>NaN</td>\n",
       "      <td>NaN</td>\n",
       "    </tr>\n",
       "    <tr>\n",
       "      <th>3</th>\n",
       "      <td>4</td>\n",
       "      <td>James Abankwah</td>\n",
       "      <td>IRL</td>\n",
       "      <td>DF,MF</td>\n",
       "      <td>Defensa</td>\n",
       "      <td>Udinese</td>\n",
       "      <td>Serie A</td>\n",
       "      <td>20.0</td>\n",
       "      <td>2004.0</td>\n",
       "      <td>6</td>\n",
       "      <td>...</td>\n",
       "      <td>NaN</td>\n",
       "      <td>NaN</td>\n",
       "      <td>NaN</td>\n",
       "      <td>NaN</td>\n",
       "      <td>NaN</td>\n",
       "      <td>NaN</td>\n",
       "      <td>NaN</td>\n",
       "      <td>NaN</td>\n",
       "      <td>NaN</td>\n",
       "      <td>NaN</td>\n",
       "    </tr>\n",
       "    <tr>\n",
       "      <th>4</th>\n",
       "      <td>5</td>\n",
       "      <td>Keyliane Abdallah</td>\n",
       "      <td>FRA</td>\n",
       "      <td>FW</td>\n",
       "      <td>Atacante</td>\n",
       "      <td>Marseille</td>\n",
       "      <td>Ligue 1</td>\n",
       "      <td>18.0</td>\n",
       "      <td>2006.0</td>\n",
       "      <td>1</td>\n",
       "      <td>...</td>\n",
       "      <td>NaN</td>\n",
       "      <td>NaN</td>\n",
       "      <td>NaN</td>\n",
       "      <td>NaN</td>\n",
       "      <td>NaN</td>\n",
       "      <td>NaN</td>\n",
       "      <td>NaN</td>\n",
       "      <td>NaN</td>\n",
       "      <td>NaN</td>\n",
       "      <td>NaN</td>\n",
       "    </tr>\n",
       "  </tbody>\n",
       "</table>\n",
       "<p>5 rows × 364 columns</p>\n",
       "</div>"
      ],
      "text/plain": [
       "   Rk             Player Nation    Pos Rol_Tactico        Squad  \\\n",
       "0   1         Max Aarons    ENG     DF     Defensa  Bournemouth   \n",
       "1   2         Max Aarons    ENG  DF,MF     Defensa     Valencia   \n",
       "2   3     Rodrigo Abajas    ESP     DF     Defensa     Valencia   \n",
       "3   4     James Abankwah    IRL  DF,MF     Defensa      Udinese   \n",
       "4   5  Keyliane Abdallah    FRA     FW    Atacante    Marseille   \n",
       "\n",
       "             Comp   Age    Born  MP  ...  90s_stats_keeper_adv_per90  \\\n",
       "0  Premier League  24.0  2000.0   3  ...                         NaN   \n",
       "1         La Liga  24.0  2000.0   4  ...                         NaN   \n",
       "2         La Liga  21.0  2003.0   1  ...                         NaN   \n",
       "3         Serie A  20.0  2004.0   6  ...                         NaN   \n",
       "4         Ligue 1  18.0  2006.0   1  ...                         NaN   \n",
       "\n",
       "   GA_stats_keeper_adv_per90  PSxG_per90  Cmp_stats_keeper_adv_per90  \\\n",
       "0                        NaN         NaN                         NaN   \n",
       "1                        NaN         NaN                         NaN   \n",
       "2                        NaN         NaN                         NaN   \n",
       "3                        NaN         NaN                         NaN   \n",
       "4                        NaN         NaN                         NaN   \n",
       "\n",
       "   Att_stats_keeper_adv_per90  Att (GK)_per90  Thr_per90  Opp_per90  \\\n",
       "0                         NaN             NaN        NaN        NaN   \n",
       "1                         NaN             NaN        NaN        NaN   \n",
       "2                         NaN             NaN        NaN        NaN   \n",
       "3                         NaN             NaN        NaN        NaN   \n",
       "4                         NaN             NaN        NaN        NaN   \n",
       "\n",
       "   Stp_per90  #OPA_per90  \n",
       "0        NaN         NaN  \n",
       "1        NaN         NaN  \n",
       "2        NaN         NaN  \n",
       "3        NaN         NaN  \n",
       "4        NaN         NaN  \n",
       "\n",
       "[5 rows x 364 columns]"
      ]
     },
     "execution_count": 30,
     "metadata": {},
     "output_type": "execute_result"
    }
   ],
   "source": [
    "# ============================================================\n",
    "# 🧮 CÁLCULO ROBUSTO DE MÉTRICAS POR 90 MINUTOS (V. CORREGIDA)\n",
    "# ============================================================\n",
    "\n",
    "import numpy as np\n",
    "import pandas as pd\n",
    "import re\n",
    "\n",
    "# ---------- Helpers ----------\n",
    "def normalizar_porcentajes_idempotente(df):\n",
    "    \"\"\"\n",
    "    Quita '%' si existe, convierte a numérico y unifica a 0–100.\n",
    "    Si ya está en 0–100, no lo toca; si está en 0–1, lo multiplica x100.\n",
    "    Deja NaN los valores negativos o >100.\n",
    "    \"\"\"\n",
    "    df = df.copy()\n",
    "    for col in df.columns:\n",
    "        s = df[col]\n",
    "        if \"%\" in col or re.search(r\"(pct|rate|ratio|accuracy|perct)\", col, re.I) or \\\n",
    "           any((\"%\" in str(v)) for v in s.dropna().astype(str).head(30).tolist()):\n",
    "            s2 = s.astype(str).str.replace(\"%\", \"\", regex=False)\n",
    "            s2 = pd.to_numeric(s2, errors=\"coerce\")\n",
    "            if s2.notna().any() and (s2 <= 1.5).mean() > 0.8:\n",
    "                s2 = s2 * 100.0  # estaba en 0–1\n",
    "            s2 = s2.mask((s2 < 0) | (s2 > 100))\n",
    "            df[col] = s2\n",
    "    return df\n",
    "\n",
    "\n",
    "def es_porcentaje_o_ratio(nombre):\n",
    "    \"\"\"\n",
    "    Identifica columnas que NO deben recalcularse a per90.\n",
    "    \"\"\"\n",
    "    return bool(re.search(\n",
    "        r\"(pct|rate|ratio|accuracy|perct|percent|success|score|avg|mean|/90|per_90)\",\n",
    "        nombre, re.I\n",
    "    )) or \"%\" in nombre\n",
    "\n",
    "\n",
    "# ---------- 1) Copia del DataFrame original ----------\n",
    "df_per90 = df_jugadores.copy()\n",
    "\n",
    "# ---------- 1b) Asegurar minutos ----------\n",
    "if \"Min\" not in df_per90.columns:\n",
    "    if \"90s\" in df_per90.columns:\n",
    "        df_per90[\"Min\"] = pd.to_numeric(df_per90[\"90s\"], errors=\"coerce\") * 90\n",
    "    else:\n",
    "        raise ValueError(\"No encuentro 'Min' ni '90s' para calcular minutos.\")\n",
    "\n",
    "df_per90[\"Min\"] = pd.to_numeric(df_per90[\"Min\"], errors=\"coerce\")\n",
    "\n",
    "# ---------- 2) Normalizar porcentajes antes de cálculos ----------\n",
    "df_per90 = normalizar_porcentajes_idempotente(df_per90)\n",
    "print(\"✅ Porcentajes normalizados (0–100) antes de calcular per-90.\")\n",
    "\n",
    "# ---------- 3) Definir columnas a excluir ----------\n",
    "columnas_excluir = {\n",
    "    \"Age\", \"Born\", \"Min\", \"90s\", \"MP\", \"Starts\", \"Season\", \"Rol_Tactico\"\n",
    "}\n",
    "\n",
    "# Además, excluimos cualquier columna que ya sea ratio o tasa\n",
    "todas = df_per90.columns.tolist()\n",
    "excluir_por_naturaleza = {\n",
    "    c for c in todas\n",
    "    if es_porcentaje_o_ratio(c) or c.endswith(\"_per90\")\n",
    "}\n",
    "\n",
    "columnas_excluir = columnas_excluir.union(excluir_por_naturaleza)\n",
    "\n",
    "# ---------- 4) Detectar columnas realmente acumulativas ----------\n",
    "metricas_numericas = []\n",
    "for c in df_per90.select_dtypes(include=\"number\").columns:\n",
    "    if c in columnas_excluir:\n",
    "        continue\n",
    "    mean_val = df_per90[c].mean(skipna=True)\n",
    "    if mean_val > 10:  # valores grandes → acumulativos\n",
    "        metricas_numericas.append(c)\n",
    "\n",
    "print(f\"📊 Se recalcularán {len(metricas_numericas)} métricas como 'per90'.\")\n",
    "if len(metricas_numericas) > 0:\n",
    "    print(\"🔹 Ejemplo:\", metricas_numericas[:10])\n",
    "\n",
    "# ---------- 5) Calcular per90 correctamente ----------\n",
    "df_valid = df_per90[df_per90[\"Min\"] > 0].copy()\n",
    "df_per90_calc = df_valid[metricas_numericas].div(df_valid[\"Min\"], axis=0) * 90\n",
    "df_per90_calc.columns = [f\"{col}_per90\" for col in df_per90_calc.columns]\n",
    "\n",
    "# Reindexar para mantener filas originales\n",
    "df_per90_calc = df_per90_calc.reindex(df_per90.index)\n",
    "\n",
    "# ---------- 6) Concatenar sin sobrescribir columnas existentes ----------\n",
    "for col in df_per90_calc.columns:\n",
    "    if col not in df_per90.columns:\n",
    "        df_per90[col] = df_per90_calc[col]\n",
    "\n",
    "# ---------- 7) Limpieza de infinitos y control final ----------\n",
    "df_per90.replace([np.inf, -np.inf], np.nan, inplace=True)\n",
    "\n",
    "print(\"✅ Cálculo de métricas per-90 completado (versión corregida).\")\n",
    "df_per90.head(5)\n"
   ]
  },
  {
   "cell_type": "code",
   "execution_count": 46,
   "id": "dffb8761",
   "metadata": {},
   "outputs": [
    {
     "name": "stdout",
     "output_type": "stream",
     "text": [
      "✅ Escalado robusto global completado — todas las métricas comparables en 0–100.\n"
     ]
    }
   ],
   "source": [
    "# ============================================================\n",
    "# 🌍 ESCALADO ROBUSTO GLOBAL (0–100) — COMPARABLE ENTRE TODAS LAS MÉTRICAS\n",
    "# ============================================================\n",
    "\n",
    "from sklearn.preprocessing import MinMaxScaler\n",
    "import numpy as np\n",
    "import pandas as pd\n",
    "\n",
    "df_final_scaled = df_per90.copy()\n",
    "\n",
    "# 1️⃣ Columnas candidatas al escalado\n",
    "cols_to_scale = [c for c in df_final_scaled.columns if c.endswith(\"_per90\")]\n",
    "cols_percent = [c for c in df_final_scaled.columns if c.endswith(\"%\")]\n",
    "\n",
    "# 2️⃣ Limpieza básica\n",
    "df_final_scaled[cols_to_scale] = (\n",
    "    df_final_scaled[cols_to_scale]\n",
    "    .apply(pd.to_numeric, errors=\"coerce\")\n",
    "    .replace([np.inf, -np.inf], np.nan)\n",
    ")\n",
    "\n",
    "# 3️⃣ Imputación por mediana\n",
    "for c in cols_to_scale:\n",
    "    df_final_scaled[c] = df_final_scaled[c].fillna(df_final_scaled[c].median())\n",
    "\n",
    "# 4️⃣ Winsorización (recorte controlado a percentiles 1–99)\n",
    "for c in cols_to_scale:\n",
    "    low, high = df_final_scaled[c].quantile([0.01, 0.99])\n",
    "    df_final_scaled[c] = df_final_scaled[c].clip(lower=low, upper=high)\n",
    "\n",
    "# 5️⃣ Escalado MinMax global (0–100)\n",
    "scaler = MinMaxScaler(feature_range=(0, 100))\n",
    "df_final_scaled[cols_to_scale] = scaler.fit_transform(df_final_scaled[cols_to_scale])\n",
    "\n",
    "# 6️⃣ Reincorporar métricas de porcentaje tal cual (ya en 0–100)\n",
    "for c in cols_percent:\n",
    "    if c in df_per90.columns:\n",
    "        df_final_scaled[c] = pd.to_numeric(df_per90[c], errors=\"coerce\")\n",
    "\n",
    "print(\"✅ Escalado robusto global completado — todas las métricas comparables en 0–100.\")\n"
   ]
  },
  {
   "cell_type": "code",
   "execution_count": 57,
   "id": "0e2df67b",
   "metadata": {},
   "outputs": [
    {
     "data": {
      "text/html": [
       "<div>\n",
       "<style scoped>\n",
       "    .dataframe tbody tr th:only-of-type {\n",
       "        vertical-align: middle;\n",
       "    }\n",
       "\n",
       "    .dataframe tbody tr th {\n",
       "        vertical-align: top;\n",
       "    }\n",
       "\n",
       "    .dataframe thead th {\n",
       "        text-align: right;\n",
       "    }\n",
       "</style>\n",
       "<table border=\"1\" class=\"dataframe\">\n",
       "  <thead>\n",
       "    <tr style=\"text-align: right;\">\n",
       "      <th></th>\n",
       "      <th>min</th>\n",
       "      <th>10%</th>\n",
       "      <th>25%</th>\n",
       "      <th>50%</th>\n",
       "      <th>75%</th>\n",
       "      <th>90%</th>\n",
       "      <th>max</th>\n",
       "    </tr>\n",
       "  </thead>\n",
       "  <tbody>\n",
       "    <tr>\n",
       "      <th>Save%</th>\n",
       "      <td>0.0</td>\n",
       "      <td>56.400000</td>\n",
       "      <td>63.550000</td>\n",
       "      <td>69.000000</td>\n",
       "      <td>75.000000</td>\n",
       "      <td>79.340000</td>\n",
       "      <td>100.0</td>\n",
       "    </tr>\n",
       "    <tr>\n",
       "      <th>Saves_per90</th>\n",
       "      <td>0.0</td>\n",
       "      <td>48.710568</td>\n",
       "      <td>48.710568</td>\n",
       "      <td>48.710568</td>\n",
       "      <td>48.710568</td>\n",
       "      <td>48.710568</td>\n",
       "      <td>100.0</td>\n",
       "    </tr>\n",
       "    <tr>\n",
       "      <th>CS%</th>\n",
       "      <td>0.0</td>\n",
       "      <td>0.000000</td>\n",
       "      <td>10.000000</td>\n",
       "      <td>23.300000</td>\n",
       "      <td>34.200000</td>\n",
       "      <td>50.000000</td>\n",
       "      <td>100.0</td>\n",
       "    </tr>\n",
       "    <tr>\n",
       "      <th>Cmp%</th>\n",
       "      <td>0.0</td>\n",
       "      <td>64.300000</td>\n",
       "      <td>71.800000</td>\n",
       "      <td>79.200000</td>\n",
       "      <td>85.700000</td>\n",
       "      <td>89.960000</td>\n",
       "      <td>100.0</td>\n",
       "    </tr>\n",
       "    <tr>\n",
       "      <th>Launch%</th>\n",
       "      <td>0.0</td>\n",
       "      <td>18.450000</td>\n",
       "      <td>25.600000</td>\n",
       "      <td>31.850000</td>\n",
       "      <td>41.775000</td>\n",
       "      <td>51.650000</td>\n",
       "      <td>92.3</td>\n",
       "    </tr>\n",
       "  </tbody>\n",
       "</table>\n",
       "</div>"
      ],
      "text/plain": [
       "             min        10%        25%        50%        75%        90%    max\n",
       "Save%        0.0  56.400000  63.550000  69.000000  75.000000  79.340000  100.0\n",
       "Saves_per90  0.0  48.710568  48.710568  48.710568  48.710568  48.710568  100.0\n",
       "CS%          0.0   0.000000  10.000000  23.300000  34.200000  50.000000  100.0\n",
       "Cmp%         0.0  64.300000  71.800000  79.200000  85.700000  89.960000  100.0\n",
       "Launch%      0.0  18.450000  25.600000  31.850000  41.775000  51.650000   92.3"
      ]
     },
     "execution_count": 57,
     "metadata": {},
     "output_type": "execute_result"
    }
   ],
   "source": [
    "existentes_scaled = [m for m in metricas_porteros if m in df_final_scaled.columns]\n",
    "desc_scaled = df_final_scaled[existentes_scaled].describe(percentiles=[.1,.25,.5,.75,.9]).T\n",
    "desc_scaled[[\"min\",\"10%\",\"25%\",\"50%\",\"75%\",\"90%\",\"max\"]]\n"
   ]
  },
  {
   "cell_type": "code",
   "execution_count": 58,
   "id": "6c93f28f",
   "metadata": {},
   "outputs": [
    {
     "name": "stdout",
     "output_type": "stream",
     "text": [
      "✅ DataFrame final preparado con 31 columnas escaladas (0–100).\n"
     ]
    },
    {
     "data": {
      "text/html": [
       "<div>\n",
       "<style scoped>\n",
       "    .dataframe tbody tr th:only-of-type {\n",
       "        vertical-align: middle;\n",
       "    }\n",
       "\n",
       "    .dataframe tbody tr th {\n",
       "        vertical-align: top;\n",
       "    }\n",
       "\n",
       "    .dataframe thead th {\n",
       "        text-align: right;\n",
       "    }\n",
       "</style>\n",
       "<table border=\"1\" class=\"dataframe\">\n",
       "  <thead>\n",
       "    <tr style=\"text-align: right;\">\n",
       "      <th></th>\n",
       "      <th>Player</th>\n",
       "      <th>Nation</th>\n",
       "      <th>Pos</th>\n",
       "      <th>Rol_Tactico</th>\n",
       "      <th>Squad</th>\n",
       "      <th>Comp</th>\n",
       "      <th>Season</th>\n",
       "      <th>Age</th>\n",
       "      <th>Born</th>\n",
       "      <th>MP</th>\n",
       "      <th>...</th>\n",
       "      <th>TotDist_per90</th>\n",
       "      <th>Tkl+Int_per90</th>\n",
       "      <th>Recov_per90</th>\n",
       "      <th>Clr_per90</th>\n",
       "      <th>Touches_per90</th>\n",
       "      <th>Save%</th>\n",
       "      <th>PSxG_per90</th>\n",
       "      <th>CS%</th>\n",
       "      <th>Saves_per90</th>\n",
       "      <th>Launch%</th>\n",
       "    </tr>\n",
       "  </thead>\n",
       "  <tbody>\n",
       "    <tr>\n",
       "      <th>0</th>\n",
       "      <td>Max Aarons</td>\n",
       "      <td>ENG</td>\n",
       "      <td>DF</td>\n",
       "      <td>Defensa</td>\n",
       "      <td>Bournemouth</td>\n",
       "      <td>Premier League</td>\n",
       "      <td>2024/25</td>\n",
       "      <td>24.0</td>\n",
       "      <td>2000.0</td>\n",
       "      <td>3</td>\n",
       "      <td>...</td>\n",
       "      <td>55.032850</td>\n",
       "      <td>27.906977</td>\n",
       "      <td>48.837209</td>\n",
       "      <td>0.000000</td>\n",
       "      <td>45.794239</td>\n",
       "      <td>NaN</td>\n",
       "      <td>45.189212</td>\n",
       "      <td>NaN</td>\n",
       "      <td>48.710568</td>\n",
       "      <td>NaN</td>\n",
       "    </tr>\n",
       "    <tr>\n",
       "      <th>1</th>\n",
       "      <td>Max Aarons</td>\n",
       "      <td>ENG</td>\n",
       "      <td>DF,MF</td>\n",
       "      <td>Defensa</td>\n",
       "      <td>Valencia</td>\n",
       "      <td>La Liga</td>\n",
       "      <td>2024/25</td>\n",
       "      <td>24.0</td>\n",
       "      <td>2000.0</td>\n",
       "      <td>4</td>\n",
       "      <td>...</td>\n",
       "      <td>30.466703</td>\n",
       "      <td>26.666667</td>\n",
       "      <td>35.000000</td>\n",
       "      <td>20.000000</td>\n",
       "      <td>35.655132</td>\n",
       "      <td>NaN</td>\n",
       "      <td>45.189212</td>\n",
       "      <td>NaN</td>\n",
       "      <td>48.710568</td>\n",
       "      <td>NaN</td>\n",
       "    </tr>\n",
       "    <tr>\n",
       "      <th>2</th>\n",
       "      <td>Rodrigo Abajas</td>\n",
       "      <td>ESP</td>\n",
       "      <td>DF</td>\n",
       "      <td>Defensa</td>\n",
       "      <td>Valencia</td>\n",
       "      <td>La Liga</td>\n",
       "      <td>2024/25</td>\n",
       "      <td>21.0</td>\n",
       "      <td>2003.0</td>\n",
       "      <td>1</td>\n",
       "      <td>...</td>\n",
       "      <td>20.771175</td>\n",
       "      <td>49.230769</td>\n",
       "      <td>18.461538</td>\n",
       "      <td>0.000000</td>\n",
       "      <td>24.506956</td>\n",
       "      <td>NaN</td>\n",
       "      <td>45.189212</td>\n",
       "      <td>NaN</td>\n",
       "      <td>48.710568</td>\n",
       "      <td>NaN</td>\n",
       "    </tr>\n",
       "    <tr>\n",
       "      <th>3</th>\n",
       "      <td>James Abankwah</td>\n",
       "      <td>IRL</td>\n",
       "      <td>DF,MF</td>\n",
       "      <td>Defensa</td>\n",
       "      <td>Udinese</td>\n",
       "      <td>Serie A</td>\n",
       "      <td>2024/25</td>\n",
       "      <td>20.0</td>\n",
       "      <td>2004.0</td>\n",
       "      <td>6</td>\n",
       "      <td>...</td>\n",
       "      <td>36.566924</td>\n",
       "      <td>45.454545</td>\n",
       "      <td>47.727273</td>\n",
       "      <td>27.272727</td>\n",
       "      <td>37.841874</td>\n",
       "      <td>NaN</td>\n",
       "      <td>45.189212</td>\n",
       "      <td>NaN</td>\n",
       "      <td>48.710568</td>\n",
       "      <td>NaN</td>\n",
       "    </tr>\n",
       "    <tr>\n",
       "      <th>4</th>\n",
       "      <td>Keyliane Abdallah</td>\n",
       "      <td>FRA</td>\n",
       "      <td>FW</td>\n",
       "      <td>Atacante</td>\n",
       "      <td>Marseille</td>\n",
       "      <td>Ligue 1</td>\n",
       "      <td>2024/25</td>\n",
       "      <td>18.0</td>\n",
       "      <td>2006.0</td>\n",
       "      <td>1</td>\n",
       "      <td>...</td>\n",
       "      <td>73.587504</td>\n",
       "      <td>100.000000</td>\n",
       "      <td>0.000000</td>\n",
       "      <td>0.000000</td>\n",
       "      <td>80.756675</td>\n",
       "      <td>NaN</td>\n",
       "      <td>45.189212</td>\n",
       "      <td>NaN</td>\n",
       "      <td>48.710568</td>\n",
       "      <td>NaN</td>\n",
       "    </tr>\n",
       "    <tr>\n",
       "      <th>5</th>\n",
       "      <td>Yunis Abdelhamid</td>\n",
       "      <td>MAR</td>\n",
       "      <td>DF</td>\n",
       "      <td>Defensa</td>\n",
       "      <td>Saint-Étienne</td>\n",
       "      <td>Ligue 1</td>\n",
       "      <td>2024/25</td>\n",
       "      <td>36.0</td>\n",
       "      <td>1987.0</td>\n",
       "      <td>16</td>\n",
       "      <td>...</td>\n",
       "      <td>40.555405</td>\n",
       "      <td>24.007744</td>\n",
       "      <td>24.394966</td>\n",
       "      <td>44.143272</td>\n",
       "      <td>29.318504</td>\n",
       "      <td>NaN</td>\n",
       "      <td>45.189212</td>\n",
       "      <td>NaN</td>\n",
       "      <td>48.710568</td>\n",
       "      <td>NaN</td>\n",
       "    </tr>\n",
       "    <tr>\n",
       "      <th>6</th>\n",
       "      <td>Himad Abdelli</td>\n",
       "      <td>ALG</td>\n",
       "      <td>MF,FW</td>\n",
       "      <td>Centrocampista</td>\n",
       "      <td>Angers</td>\n",
       "      <td>Ligue 1</td>\n",
       "      <td>2024/25</td>\n",
       "      <td>24.0</td>\n",
       "      <td>1999.0</td>\n",
       "      <td>32</td>\n",
       "      <td>...</td>\n",
       "      <td>40.104367</td>\n",
       "      <td>20.830401</td>\n",
       "      <td>40.745954</td>\n",
       "      <td>7.881773</td>\n",
       "      <td>35.145187</td>\n",
       "      <td>NaN</td>\n",
       "      <td>45.189212</td>\n",
       "      <td>NaN</td>\n",
       "      <td>48.710568</td>\n",
       "      <td>NaN</td>\n",
       "    </tr>\n",
       "    <tr>\n",
       "      <th>7</th>\n",
       "      <td>Mohamed Abdelmoneim</td>\n",
       "      <td>EGY</td>\n",
       "      <td>DF</td>\n",
       "      <td>Defensa</td>\n",
       "      <td>Nice</td>\n",
       "      <td>Ligue 1</td>\n",
       "      <td>2024/25</td>\n",
       "      <td>25.0</td>\n",
       "      <td>1999.0</td>\n",
       "      <td>12</td>\n",
       "      <td>...</td>\n",
       "      <td>51.670697</td>\n",
       "      <td>33.684211</td>\n",
       "      <td>35.087719</td>\n",
       "      <td>52.397661</td>\n",
       "      <td>38.134398</td>\n",
       "      <td>NaN</td>\n",
       "      <td>45.189212</td>\n",
       "      <td>NaN</td>\n",
       "      <td>48.710568</td>\n",
       "      <td>NaN</td>\n",
       "    </tr>\n",
       "    <tr>\n",
       "      <th>8</th>\n",
       "      <td>Ali Abdi</td>\n",
       "      <td>TUN</td>\n",
       "      <td>DF,MF</td>\n",
       "      <td>Defensa</td>\n",
       "      <td>Nice</td>\n",
       "      <td>Ligue 1</td>\n",
       "      <td>2024/25</td>\n",
       "      <td>30.0</td>\n",
       "      <td>1993.0</td>\n",
       "      <td>25</td>\n",
       "      <td>...</td>\n",
       "      <td>29.394523</td>\n",
       "      <td>36.180905</td>\n",
       "      <td>31.012204</td>\n",
       "      <td>21.249103</td>\n",
       "      <td>30.438074</td>\n",
       "      <td>NaN</td>\n",
       "      <td>45.189212</td>\n",
       "      <td>NaN</td>\n",
       "      <td>48.710568</td>\n",
       "      <td>NaN</td>\n",
       "    </tr>\n",
       "    <tr>\n",
       "      <th>9</th>\n",
       "      <td>Saud Abdulhamid</td>\n",
       "      <td>KSA</td>\n",
       "      <td>DF</td>\n",
       "      <td>Defensa</td>\n",
       "      <td>Roma</td>\n",
       "      <td>Serie A</td>\n",
       "      <td>2024/25</td>\n",
       "      <td>25.0</td>\n",
       "      <td>1999.0</td>\n",
       "      <td>4</td>\n",
       "      <td>...</td>\n",
       "      <td>45.628443</td>\n",
       "      <td>19.512195</td>\n",
       "      <td>8.780488</td>\n",
       "      <td>0.000000</td>\n",
       "      <td>39.805941</td>\n",
       "      <td>NaN</td>\n",
       "      <td>45.189212</td>\n",
       "      <td>NaN</td>\n",
       "      <td>48.710568</td>\n",
       "      <td>NaN</td>\n",
       "    </tr>\n",
       "  </tbody>\n",
       "</table>\n",
       "<p>10 rows × 31 columns</p>\n",
       "</div>"
      ],
      "text/plain": [
       "                Player Nation    Pos     Rol_Tactico          Squad  \\\n",
       "0           Max Aarons    ENG     DF         Defensa    Bournemouth   \n",
       "1           Max Aarons    ENG  DF,MF         Defensa       Valencia   \n",
       "2       Rodrigo Abajas    ESP     DF         Defensa       Valencia   \n",
       "3       James Abankwah    IRL  DF,MF         Defensa        Udinese   \n",
       "4    Keyliane Abdallah    FRA     FW        Atacante      Marseille   \n",
       "5     Yunis Abdelhamid    MAR     DF         Defensa  Saint-Étienne   \n",
       "6        Himad Abdelli    ALG  MF,FW  Centrocampista         Angers   \n",
       "7  Mohamed Abdelmoneim    EGY     DF         Defensa           Nice   \n",
       "8             Ali Abdi    TUN  DF,MF         Defensa           Nice   \n",
       "9      Saud Abdulhamid    KSA     DF         Defensa           Roma   \n",
       "\n",
       "             Comp   Season   Age    Born  MP  ...  TotDist_per90  \\\n",
       "0  Premier League  2024/25  24.0  2000.0   3  ...      55.032850   \n",
       "1         La Liga  2024/25  24.0  2000.0   4  ...      30.466703   \n",
       "2         La Liga  2024/25  21.0  2003.0   1  ...      20.771175   \n",
       "3         Serie A  2024/25  20.0  2004.0   6  ...      36.566924   \n",
       "4         Ligue 1  2024/25  18.0  2006.0   1  ...      73.587504   \n",
       "5         Ligue 1  2024/25  36.0  1987.0  16  ...      40.555405   \n",
       "6         Ligue 1  2024/25  24.0  1999.0  32  ...      40.104367   \n",
       "7         Ligue 1  2024/25  25.0  1999.0  12  ...      51.670697   \n",
       "8         Ligue 1  2024/25  30.0  1993.0  25  ...      29.394523   \n",
       "9         Serie A  2024/25  25.0  1999.0   4  ...      45.628443   \n",
       "\n",
       "   Tkl+Int_per90  Recov_per90  Clr_per90  Touches_per90  Save%  PSxG_per90  \\\n",
       "0      27.906977    48.837209   0.000000      45.794239    NaN   45.189212   \n",
       "1      26.666667    35.000000  20.000000      35.655132    NaN   45.189212   \n",
       "2      49.230769    18.461538   0.000000      24.506956    NaN   45.189212   \n",
       "3      45.454545    47.727273  27.272727      37.841874    NaN   45.189212   \n",
       "4     100.000000     0.000000   0.000000      80.756675    NaN   45.189212   \n",
       "5      24.007744    24.394966  44.143272      29.318504    NaN   45.189212   \n",
       "6      20.830401    40.745954   7.881773      35.145187    NaN   45.189212   \n",
       "7      33.684211    35.087719  52.397661      38.134398    NaN   45.189212   \n",
       "8      36.180905    31.012204  21.249103      30.438074    NaN   45.189212   \n",
       "9      19.512195     8.780488   0.000000      39.805941    NaN   45.189212   \n",
       "\n",
       "   CS%  Saves_per90  Launch%  \n",
       "0  NaN    48.710568      NaN  \n",
       "1  NaN    48.710568      NaN  \n",
       "2  NaN    48.710568      NaN  \n",
       "3  NaN    48.710568      NaN  \n",
       "4  NaN    48.710568      NaN  \n",
       "5  NaN    48.710568      NaN  \n",
       "6  NaN    48.710568      NaN  \n",
       "7  NaN    48.710568      NaN  \n",
       "8  NaN    48.710568      NaN  \n",
       "9  NaN    48.710568      NaN  \n",
       "\n",
       "[10 rows x 31 columns]"
      ]
     },
     "execution_count": 58,
     "metadata": {},
     "output_type": "execute_result"
    }
   ],
   "source": [
    "# ============================================================\n",
    "# 🎯 SELECCIÓN FINAL DE COLUMNAS ESCALADAS PARA VISUALIZACIÓN\n",
    "# ============================================================\n",
    "\n",
    "# 1️⃣ Lista de columnas clave (adaptada a tu app)\n",
    "columnas_finales_csv = [\n",
    "    # Identidad\n",
    "    \"Player\", \"Nation\", \"Pos\", \"Rol_Tactico\", \"Squad\", \"Comp\", \"Season\",\n",
    "    \"Age\", \"Born\", \"MP\", \"Starts\", \"Min\", \"90s\",\n",
    "\n",
    "    # Producción ofensiva y finalización\n",
    "    \"Gls_per90\", \"xG_per90\", \"NPxG_per90\",\n",
    "    \"Sh_per90\", \"SoT_per90\", \"G/SoT_per90\",\n",
    "\n",
    "    # Creatividad e interiores\n",
    "    \"xA_per90\", \"xAG_per90\", \"KP_per90\", \"GCA90_per90\", \"SCA_per90\",\n",
    "    \"1/3_per90\", \"PPA_per90\",\n",
    "\n",
    "    # Progresión y pase\n",
    "    \"PrgP_per90\", \"PrgC_per90\", \"Carries_per90\",\n",
    "    \"Cmp%\", \"Cmp_per90\", \"TotDist_per90\",\n",
    "\n",
    "    # Defensa y recuperación\n",
    "    \"Tkl+Int_per90\", \"Int_per90\", \"Recov_per90\", \"Blocks_per90\", \"Clr_per90\",\n",
    "\n",
    "    # Posesión y presión\n",
    "    \"Touches_per90\", \"Dis_per90\", \"Pressures_per90\", \"Err_per90\",\n",
    "\n",
    "    # Portero\n",
    "    \"Save%\", \"PSxG+/-_per90\", \"PSxG_per90\", \"CS%\", \"Saves_per90\", \"Launch%\",\n",
    "]\n",
    "\n",
    "# 2️⃣ Filtrar solo las columnas que existen realmente\n",
    "columnas_existentes = [col for col in columnas_finales_csv if col in df_final_scaled.columns]\n",
    "\n",
    "# 3️⃣ Crear DataFrame final escalado\n",
    "df_final = df_final_scaled[columnas_existentes].copy()\n",
    "\n",
    "# 4️⃣ Vista previa\n",
    "print(f\"✅ DataFrame final preparado con {len(df_final.columns)} columnas escaladas (0–100).\")\n",
    "df_final.head(10)\n"
   ]
  },
  {
   "cell_type": "code",
   "execution_count": 59,
   "id": "3aa6c0da",
   "metadata": {},
   "outputs": [
    {
     "name": "stdout",
     "output_type": "stream",
     "text": [
      "🔎 Revisando 24 métricas numéricas...\n",
      "⚠️ Revisión de métricas con posibles problemas:\n",
      " - Age: 0.20% NaN\n",
      " - Born: 0.20% NaN\n",
      " - Min: 0.02% NaN\n",
      " - Cmp%: 0.61% NaN\n",
      " - Save%: 93.35% NaN\n",
      " - CS%: 93.47% NaN\n",
      " - Launch%: 93.21% NaN\n"
     ]
    }
   ],
   "source": [
    "# ============================================================\n",
    "# 🔍 CONTROL DE CALIDAD FINAL DE MÉTRICAS (NaN / 0 / datos válidos)\n",
    "# ============================================================\n",
    "\n",
    "metricas_con_problemas = []\n",
    "\n",
    "# Solo analizamos columnas numéricas\n",
    "columnas_numericas = df_final.select_dtypes(include=\"number\").columns\n",
    "print(f\"🔎 Revisando {len(columnas_numericas)} métricas numéricas...\")\n",
    "\n",
    "for col in columnas_numericas:\n",
    "    serie = df_final[col]\n",
    "\n",
    "    if isinstance(serie, pd.Series):\n",
    "        if pd.isna(serie).sum() == len(serie):\n",
    "            metricas_con_problemas.append((col, \"TODOS son NaN\"))\n",
    "        elif (serie == 0).sum() == len(serie):\n",
    "            metricas_con_problemas.append((col, \"TODOS son 0\"))\n",
    "        elif pd.isna(serie).sum() > 0:\n",
    "            porcentaje = pd.isna(serie).mean() * 100\n",
    "            metricas_con_problemas.append((col, f\"{porcentaje:.2f}% NaN\"))\n",
    "\n",
    "# Mostrar resultado\n",
    "if metricas_con_problemas:\n",
    "    print(\"⚠️ Revisión de métricas con posibles problemas:\")\n",
    "    for metrica, estado in metricas_con_problemas:\n",
    "        print(f\" - {metrica}: {estado}\")\n",
    "else:\n",
    "    print(\"✅ Todas las métricas numéricas en df_final tienen datos válidos.\")\n"
   ]
  },
  {
   "cell_type": "code",
   "execution_count": 61,
   "id": "3443f051",
   "metadata": {},
   "outputs": [
    {
     "name": "stdout",
     "output_type": "stream",
     "text": [
      "✅ Limpieza final de columnas Age, Born y Min completada.\n"
     ]
    }
   ],
   "source": [
    "# ============================================================\n",
    "# 🧼 LIMPIEZA FINAL DE CAMPOS DEMOGRÁFICOS Y DE MINUTOS\n",
    "# ============================================================\n",
    "\n",
    "# Age y Born → texto legible si faltan valores\n",
    "for col in [\"Age\", \"Born\"]:\n",
    "    if col in df_final.columns:\n",
    "        df_final[col] = df_final[col].astype(object)  # fuerza tipo texto\n",
    "        df_final[col] = df_final[col].where(df_final[col].notna(), \"N/A\")\n",
    "\n",
    "# Min → numérico, sin NaN\n",
    "if \"Min\" in df_final.columns:\n",
    "    df_final[\"Min\"] = pd.to_numeric(df_final[\"Min\"], errors=\"coerce\").fillna(0)\n",
    "\n",
    "print(\"✅ Limpieza final de columnas Age, Born y Min completada.\")\n"
   ]
  },
  {
   "cell_type": "code",
   "execution_count": 62,
   "id": "c4f719c4",
   "metadata": {},
   "outputs": [
    {
     "name": "stdout",
     "output_type": "stream",
     "text": [
      "🎯 Jugador: Kylian Mbappé | Rol táctico: Atacante\n"
     ]
    },
    {
     "data": {
      "application/vnd.plotly.v1+json": {
       "config": {
        "plotlyServerURL": "https://plot.ly"
       },
       "data": [
        {
         "fill": "toself",
         "line": {
          "color": "#00C896",
          "width": 3
         },
         "name": "Kylian Mbappé",
         "r": {
          "bdata": "ijXgijXgRkBnQor6GdtAQDbdkCn4Wj9AmpmZmZm5VECgytStGZA3QA==",
          "dtype": "f8"
         },
         "theta": [
          "SCA_per90",
          "PrgP_per90",
          "Carries_per90",
          "Cmp%",
          "Touches_per90"
         ],
         "type": "scatterpolar"
        },
        {
         "fill": "toself",
         "line": {
          "color": "#808080",
          "dash": "dot",
          "width": 2
         },
         "name": "Media Atacante",
         "r": {
          "bdata": "lcY/tllyPkAbqXuWA00yQOmpkTjFIDVAFMPZEHK2UUCY+SAoEEwyQA==",
          "dtype": "f8"
         },
         "theta": [
          "SCA_per90",
          "PrgP_per90",
          "Carries_per90",
          "Cmp%",
          "Touches_per90"
         ],
         "type": "scatterpolar"
        }
       ],
       "layout": {
        "polar": {
         "radialaxis": {
          "range": [
           0,
           100
          ],
          "visible": true
         }
        },
        "showlegend": true,
        "template": {
         "data": {
          "bar": [
           {
            "error_x": {
             "color": "#f2f5fa"
            },
            "error_y": {
             "color": "#f2f5fa"
            },
            "marker": {
             "line": {
              "color": "rgb(17,17,17)",
              "width": 0.5
             },
             "pattern": {
              "fillmode": "overlay",
              "size": 10,
              "solidity": 0.2
             }
            },
            "type": "bar"
           }
          ],
          "barpolar": [
           {
            "marker": {
             "line": {
              "color": "rgb(17,17,17)",
              "width": 0.5
             },
             "pattern": {
              "fillmode": "overlay",
              "size": 10,
              "solidity": 0.2
             }
            },
            "type": "barpolar"
           }
          ],
          "carpet": [
           {
            "aaxis": {
             "endlinecolor": "#A2B1C6",
             "gridcolor": "#506784",
             "linecolor": "#506784",
             "minorgridcolor": "#506784",
             "startlinecolor": "#A2B1C6"
            },
            "baxis": {
             "endlinecolor": "#A2B1C6",
             "gridcolor": "#506784",
             "linecolor": "#506784",
             "minorgridcolor": "#506784",
             "startlinecolor": "#A2B1C6"
            },
            "type": "carpet"
           }
          ],
          "choropleth": [
           {
            "colorbar": {
             "outlinewidth": 0,
             "ticks": ""
            },
            "type": "choropleth"
           }
          ],
          "contour": [
           {
            "colorbar": {
             "outlinewidth": 0,
             "ticks": ""
            },
            "colorscale": [
             [
              0,
              "#0d0887"
             ],
             [
              0.1111111111111111,
              "#46039f"
             ],
             [
              0.2222222222222222,
              "#7201a8"
             ],
             [
              0.3333333333333333,
              "#9c179e"
             ],
             [
              0.4444444444444444,
              "#bd3786"
             ],
             [
              0.5555555555555556,
              "#d8576b"
             ],
             [
              0.6666666666666666,
              "#ed7953"
             ],
             [
              0.7777777777777778,
              "#fb9f3a"
             ],
             [
              0.8888888888888888,
              "#fdca26"
             ],
             [
              1,
              "#f0f921"
             ]
            ],
            "type": "contour"
           }
          ],
          "contourcarpet": [
           {
            "colorbar": {
             "outlinewidth": 0,
             "ticks": ""
            },
            "type": "contourcarpet"
           }
          ],
          "heatmap": [
           {
            "colorbar": {
             "outlinewidth": 0,
             "ticks": ""
            },
            "colorscale": [
             [
              0,
              "#0d0887"
             ],
             [
              0.1111111111111111,
              "#46039f"
             ],
             [
              0.2222222222222222,
              "#7201a8"
             ],
             [
              0.3333333333333333,
              "#9c179e"
             ],
             [
              0.4444444444444444,
              "#bd3786"
             ],
             [
              0.5555555555555556,
              "#d8576b"
             ],
             [
              0.6666666666666666,
              "#ed7953"
             ],
             [
              0.7777777777777778,
              "#fb9f3a"
             ],
             [
              0.8888888888888888,
              "#fdca26"
             ],
             [
              1,
              "#f0f921"
             ]
            ],
            "type": "heatmap"
           }
          ],
          "histogram": [
           {
            "marker": {
             "pattern": {
              "fillmode": "overlay",
              "size": 10,
              "solidity": 0.2
             }
            },
            "type": "histogram"
           }
          ],
          "histogram2d": [
           {
            "colorbar": {
             "outlinewidth": 0,
             "ticks": ""
            },
            "colorscale": [
             [
              0,
              "#0d0887"
             ],
             [
              0.1111111111111111,
              "#46039f"
             ],
             [
              0.2222222222222222,
              "#7201a8"
             ],
             [
              0.3333333333333333,
              "#9c179e"
             ],
             [
              0.4444444444444444,
              "#bd3786"
             ],
             [
              0.5555555555555556,
              "#d8576b"
             ],
             [
              0.6666666666666666,
              "#ed7953"
             ],
             [
              0.7777777777777778,
              "#fb9f3a"
             ],
             [
              0.8888888888888888,
              "#fdca26"
             ],
             [
              1,
              "#f0f921"
             ]
            ],
            "type": "histogram2d"
           }
          ],
          "histogram2dcontour": [
           {
            "colorbar": {
             "outlinewidth": 0,
             "ticks": ""
            },
            "colorscale": [
             [
              0,
              "#0d0887"
             ],
             [
              0.1111111111111111,
              "#46039f"
             ],
             [
              0.2222222222222222,
              "#7201a8"
             ],
             [
              0.3333333333333333,
              "#9c179e"
             ],
             [
              0.4444444444444444,
              "#bd3786"
             ],
             [
              0.5555555555555556,
              "#d8576b"
             ],
             [
              0.6666666666666666,
              "#ed7953"
             ],
             [
              0.7777777777777778,
              "#fb9f3a"
             ],
             [
              0.8888888888888888,
              "#fdca26"
             ],
             [
              1,
              "#f0f921"
             ]
            ],
            "type": "histogram2dcontour"
           }
          ],
          "mesh3d": [
           {
            "colorbar": {
             "outlinewidth": 0,
             "ticks": ""
            },
            "type": "mesh3d"
           }
          ],
          "parcoords": [
           {
            "line": {
             "colorbar": {
              "outlinewidth": 0,
              "ticks": ""
             }
            },
            "type": "parcoords"
           }
          ],
          "pie": [
           {
            "automargin": true,
            "type": "pie"
           }
          ],
          "scatter": [
           {
            "marker": {
             "line": {
              "color": "#283442"
             }
            },
            "type": "scatter"
           }
          ],
          "scatter3d": [
           {
            "line": {
             "colorbar": {
              "outlinewidth": 0,
              "ticks": ""
             }
            },
            "marker": {
             "colorbar": {
              "outlinewidth": 0,
              "ticks": ""
             }
            },
            "type": "scatter3d"
           }
          ],
          "scattercarpet": [
           {
            "marker": {
             "colorbar": {
              "outlinewidth": 0,
              "ticks": ""
             }
            },
            "type": "scattercarpet"
           }
          ],
          "scattergeo": [
           {
            "marker": {
             "colorbar": {
              "outlinewidth": 0,
              "ticks": ""
             }
            },
            "type": "scattergeo"
           }
          ],
          "scattergl": [
           {
            "marker": {
             "line": {
              "color": "#283442"
             }
            },
            "type": "scattergl"
           }
          ],
          "scattermap": [
           {
            "marker": {
             "colorbar": {
              "outlinewidth": 0,
              "ticks": ""
             }
            },
            "type": "scattermap"
           }
          ],
          "scattermapbox": [
           {
            "marker": {
             "colorbar": {
              "outlinewidth": 0,
              "ticks": ""
             }
            },
            "type": "scattermapbox"
           }
          ],
          "scatterpolar": [
           {
            "marker": {
             "colorbar": {
              "outlinewidth": 0,
              "ticks": ""
             }
            },
            "type": "scatterpolar"
           }
          ],
          "scatterpolargl": [
           {
            "marker": {
             "colorbar": {
              "outlinewidth": 0,
              "ticks": ""
             }
            },
            "type": "scatterpolargl"
           }
          ],
          "scatterternary": [
           {
            "marker": {
             "colorbar": {
              "outlinewidth": 0,
              "ticks": ""
             }
            },
            "type": "scatterternary"
           }
          ],
          "surface": [
           {
            "colorbar": {
             "outlinewidth": 0,
             "ticks": ""
            },
            "colorscale": [
             [
              0,
              "#0d0887"
             ],
             [
              0.1111111111111111,
              "#46039f"
             ],
             [
              0.2222222222222222,
              "#7201a8"
             ],
             [
              0.3333333333333333,
              "#9c179e"
             ],
             [
              0.4444444444444444,
              "#bd3786"
             ],
             [
              0.5555555555555556,
              "#d8576b"
             ],
             [
              0.6666666666666666,
              "#ed7953"
             ],
             [
              0.7777777777777778,
              "#fb9f3a"
             ],
             [
              0.8888888888888888,
              "#fdca26"
             ],
             [
              1,
              "#f0f921"
             ]
            ],
            "type": "surface"
           }
          ],
          "table": [
           {
            "cells": {
             "fill": {
              "color": "#506784"
             },
             "line": {
              "color": "rgb(17,17,17)"
             }
            },
            "header": {
             "fill": {
              "color": "#2a3f5f"
             },
             "line": {
              "color": "rgb(17,17,17)"
             }
            },
            "type": "table"
           }
          ]
         },
         "layout": {
          "annotationdefaults": {
           "arrowcolor": "#f2f5fa",
           "arrowhead": 0,
           "arrowwidth": 1
          },
          "autotypenumbers": "strict",
          "coloraxis": {
           "colorbar": {
            "outlinewidth": 0,
            "ticks": ""
           }
          },
          "colorscale": {
           "diverging": [
            [
             0,
             "#8e0152"
            ],
            [
             0.1,
             "#c51b7d"
            ],
            [
             0.2,
             "#de77ae"
            ],
            [
             0.3,
             "#f1b6da"
            ],
            [
             0.4,
             "#fde0ef"
            ],
            [
             0.5,
             "#f7f7f7"
            ],
            [
             0.6,
             "#e6f5d0"
            ],
            [
             0.7,
             "#b8e186"
            ],
            [
             0.8,
             "#7fbc41"
            ],
            [
             0.9,
             "#4d9221"
            ],
            [
             1,
             "#276419"
            ]
           ],
           "sequential": [
            [
             0,
             "#0d0887"
            ],
            [
             0.1111111111111111,
             "#46039f"
            ],
            [
             0.2222222222222222,
             "#7201a8"
            ],
            [
             0.3333333333333333,
             "#9c179e"
            ],
            [
             0.4444444444444444,
             "#bd3786"
            ],
            [
             0.5555555555555556,
             "#d8576b"
            ],
            [
             0.6666666666666666,
             "#ed7953"
            ],
            [
             0.7777777777777778,
             "#fb9f3a"
            ],
            [
             0.8888888888888888,
             "#fdca26"
            ],
            [
             1,
             "#f0f921"
            ]
           ],
           "sequentialminus": [
            [
             0,
             "#0d0887"
            ],
            [
             0.1111111111111111,
             "#46039f"
            ],
            [
             0.2222222222222222,
             "#7201a8"
            ],
            [
             0.3333333333333333,
             "#9c179e"
            ],
            [
             0.4444444444444444,
             "#bd3786"
            ],
            [
             0.5555555555555556,
             "#d8576b"
            ],
            [
             0.6666666666666666,
             "#ed7953"
            ],
            [
             0.7777777777777778,
             "#fb9f3a"
            ],
            [
             0.8888888888888888,
             "#fdca26"
            ],
            [
             1,
             "#f0f921"
            ]
           ]
          },
          "colorway": [
           "#636efa",
           "#EF553B",
           "#00cc96",
           "#ab63fa",
           "#FFA15A",
           "#19d3f3",
           "#FF6692",
           "#B6E880",
           "#FF97FF",
           "#FECB52"
          ],
          "font": {
           "color": "#f2f5fa"
          },
          "geo": {
           "bgcolor": "rgb(17,17,17)",
           "lakecolor": "rgb(17,17,17)",
           "landcolor": "rgb(17,17,17)",
           "showlakes": true,
           "showland": true,
           "subunitcolor": "#506784"
          },
          "hoverlabel": {
           "align": "left"
          },
          "hovermode": "closest",
          "mapbox": {
           "style": "dark"
          },
          "paper_bgcolor": "rgb(17,17,17)",
          "plot_bgcolor": "rgb(17,17,17)",
          "polar": {
           "angularaxis": {
            "gridcolor": "#506784",
            "linecolor": "#506784",
            "ticks": ""
           },
           "bgcolor": "rgb(17,17,17)",
           "radialaxis": {
            "gridcolor": "#506784",
            "linecolor": "#506784",
            "ticks": ""
           }
          },
          "scene": {
           "xaxis": {
            "backgroundcolor": "rgb(17,17,17)",
            "gridcolor": "#506784",
            "gridwidth": 2,
            "linecolor": "#506784",
            "showbackground": true,
            "ticks": "",
            "zerolinecolor": "#C8D4E3"
           },
           "yaxis": {
            "backgroundcolor": "rgb(17,17,17)",
            "gridcolor": "#506784",
            "gridwidth": 2,
            "linecolor": "#506784",
            "showbackground": true,
            "ticks": "",
            "zerolinecolor": "#C8D4E3"
           },
           "zaxis": {
            "backgroundcolor": "rgb(17,17,17)",
            "gridcolor": "#506784",
            "gridwidth": 2,
            "linecolor": "#506784",
            "showbackground": true,
            "ticks": "",
            "zerolinecolor": "#C8D4E3"
           }
          },
          "shapedefaults": {
           "line": {
            "color": "#f2f5fa"
           }
          },
          "sliderdefaults": {
           "bgcolor": "#C8D4E3",
           "bordercolor": "rgb(17,17,17)",
           "borderwidth": 1,
           "tickwidth": 0
          },
          "ternary": {
           "aaxis": {
            "gridcolor": "#506784",
            "linecolor": "#506784",
            "ticks": ""
           },
           "baxis": {
            "gridcolor": "#506784",
            "linecolor": "#506784",
            "ticks": ""
           },
           "bgcolor": "rgb(17,17,17)",
           "caxis": {
            "gridcolor": "#506784",
            "linecolor": "#506784",
            "ticks": ""
           }
          },
          "title": {
           "x": 0.05
          },
          "updatemenudefaults": {
           "bgcolor": "#506784",
           "borderwidth": 0
          },
          "xaxis": {
           "automargin": true,
           "gridcolor": "#283442",
           "linecolor": "#506784",
           "ticks": "",
           "title": {
            "standoff": 15
           },
           "zerolinecolor": "#283442",
           "zerolinewidth": 2
          },
          "yaxis": {
           "automargin": true,
           "gridcolor": "#283442",
           "linecolor": "#506784",
           "ticks": "",
           "title": {
            "standoff": 15
           },
           "zerolinecolor": "#283442",
           "zerolinewidth": 2
          }
         }
        },
        "title": {
         "text": "Radar Escalado por Rol — Kylian Mbappé (Atacante)"
        }
       }
      }
     },
     "metadata": {},
     "output_type": "display_data"
    }
   ],
   "source": [
    "# ============================================================\n",
    "# 📊 RADAR CHART COMPARATIVO — ESCALADO GLOBAL (0–100)\n",
    "# ============================================================\n",
    "\n",
    "import plotly.graph_objects as go\n",
    "\n",
    "# --- 1️⃣ Seleccionar métricas relevantes ---\n",
    "metricas_radar = [\n",
    "    \"Gls_per90\", \"xG_per90\", \"NPxG_per90\", \"xA_per90\",\n",
    "    \"KP_per90\", \"SCA_per90\", \"GCA90_per90\",\n",
    "    \"PrgP_per90\", \"Carries_per90\", \"Cmp%\", \"Touches_per90\"\n",
    "]\n",
    "\n",
    "# Filtrar solo las que realmente existen\n",
    "metricas_existentes = [m for m in metricas_radar if m in df_final.columns]\n",
    "\n",
    "# --- 2️⃣ Elegir jugador de ejemplo ---\n",
    "jugador = \"Kylian Mbappé\"  # 🔄 Cambia por uno real de tu dataset\n",
    "rol = df_final.loc[df_final[\"Player\"] == jugador, \"Rol_Tactico\"].iloc[0]\n",
    "print(f\"🎯 Jugador: {jugador} | Rol táctico: {rol}\")\n",
    "\n",
    "# --- 3️⃣ Calcular promedio dentro del rol táctico ---\n",
    "df_rol = df_final[df_final[\"Rol_Tactico\"] == rol]\n",
    "mean_rol = df_rol[metricas_existentes].mean()\n",
    "\n",
    "# --- 4️⃣ Extraer valores del jugador ---\n",
    "valores = df_final.loc[df_final[\"Player\"] == jugador, metricas_existentes].iloc[0].values\n",
    "\n",
    "# --- 5️⃣ Crear radar comparativo ---\n",
    "fig = go.Figure()\n",
    "\n",
    "# Jugador individual\n",
    "fig.add_trace(go.Scatterpolar(\n",
    "    r=valores,\n",
    "    theta=metricas_existentes,\n",
    "    fill='toself',\n",
    "    name=jugador,\n",
    "    line=dict(color=\"#00C896\", width=3)\n",
    "))\n",
    "\n",
    "# Media de su rol táctico\n",
    "fig.add_trace(go.Scatterpolar(\n",
    "    r=mean_rol.values,\n",
    "    theta=metricas_existentes,\n",
    "    fill='toself',\n",
    "    name=f\"Media {rol}\",\n",
    "    line=dict(color=\"#808080\", dash='dot', width=2)\n",
    "))\n",
    "\n",
    "# --- 6️⃣ Configuración visual ---\n",
    "fig.update_layout(\n",
    "    polar=dict(radialaxis=dict(visible=True, range=[0, 100])),\n",
    "    title=f\"Radar Escalado por Rol — {jugador} ({rol})\",\n",
    "    showlegend=True,\n",
    "    template=\"plotly_dark\"\n",
    ")\n",
    "\n",
    "fig.show()\n"
   ]
  },
  {
   "cell_type": "code",
   "execution_count": 65,
   "id": "62cd9c16",
   "metadata": {},
   "outputs": [
    {
     "name": "stdout",
     "output_type": "stream",
     "text": [
      "📊 Comparación de 22 métricas numéricas finales:\n"
     ]
    },
    {
     "data": {
      "text/html": [
       "<div>\n",
       "<style scoped>\n",
       "    .dataframe tbody tr th:only-of-type {\n",
       "        vertical-align: middle;\n",
       "    }\n",
       "\n",
       "    .dataframe tbody tr th {\n",
       "        vertical-align: top;\n",
       "    }\n",
       "\n",
       "    .dataframe thead th {\n",
       "        text-align: right;\n",
       "    }\n",
       "</style>\n",
       "<table border=\"1\" class=\"dataframe\">\n",
       "  <thead>\n",
       "    <tr style=\"text-align: right;\">\n",
       "      <th></th>\n",
       "      <th>min_antes</th>\n",
       "      <th>max_antes</th>\n",
       "      <th>min_despues</th>\n",
       "      <th>max_despues</th>\n",
       "    </tr>\n",
       "  </thead>\n",
       "  <tbody>\n",
       "    <tr>\n",
       "      <th>MP</th>\n",
       "      <td>1.0</td>\n",
       "      <td>38.000000</td>\n",
       "      <td>1.0</td>\n",
       "      <td>38.0</td>\n",
       "    </tr>\n",
       "    <tr>\n",
       "      <th>Starts</th>\n",
       "      <td>0.0</td>\n",
       "      <td>38.000000</td>\n",
       "      <td>0.0</td>\n",
       "      <td>38.0</td>\n",
       "    </tr>\n",
       "    <tr>\n",
       "      <th>Min</th>\n",
       "      <td>1.0</td>\n",
       "      <td>3420.000000</td>\n",
       "      <td>0.0</td>\n",
       "      <td>3420.0</td>\n",
       "    </tr>\n",
       "    <tr>\n",
       "      <th>90s</th>\n",
       "      <td>0.0</td>\n",
       "      <td>38.000000</td>\n",
       "      <td>0.0</td>\n",
       "      <td>38.0</td>\n",
       "    </tr>\n",
       "    <tr>\n",
       "      <th>Sh_per90</th>\n",
       "      <td>0.0</td>\n",
       "      <td>90.000000</td>\n",
       "      <td>0.0</td>\n",
       "      <td>100.0</td>\n",
       "    </tr>\n",
       "    <tr>\n",
       "      <th>SCA_per90</th>\n",
       "      <td>0.0</td>\n",
       "      <td>180.000000</td>\n",
       "      <td>0.0</td>\n",
       "      <td>100.0</td>\n",
       "    </tr>\n",
       "    <tr>\n",
       "      <th>1/3_per90</th>\n",
       "      <td>0.0</td>\n",
       "      <td>90.000000</td>\n",
       "      <td>0.0</td>\n",
       "      <td>100.0</td>\n",
       "    </tr>\n",
       "    <tr>\n",
       "      <th>PrgP_per90</th>\n",
       "      <td>0.0</td>\n",
       "      <td>90.000000</td>\n",
       "      <td>0.0</td>\n",
       "      <td>100.0</td>\n",
       "    </tr>\n",
       "    <tr>\n",
       "      <th>PrgC_per90</th>\n",
       "      <td>0.0</td>\n",
       "      <td>90.000000</td>\n",
       "      <td>0.0</td>\n",
       "      <td>100.0</td>\n",
       "    </tr>\n",
       "    <tr>\n",
       "      <th>Carries_per90</th>\n",
       "      <td>0.0</td>\n",
       "      <td>450.000000</td>\n",
       "      <td>0.0</td>\n",
       "      <td>100.0</td>\n",
       "    </tr>\n",
       "    <tr>\n",
       "      <th>Cmp%</th>\n",
       "      <td>0.0</td>\n",
       "      <td>100.000000</td>\n",
       "      <td>0.0</td>\n",
       "      <td>100.0</td>\n",
       "    </tr>\n",
       "    <tr>\n",
       "      <th>Cmp_per90</th>\n",
       "      <td>0.0</td>\n",
       "      <td>450.000000</td>\n",
       "      <td>0.0</td>\n",
       "      <td>100.0</td>\n",
       "    </tr>\n",
       "    <tr>\n",
       "      <th>TotDist_per90</th>\n",
       "      <td>0.0</td>\n",
       "      <td>6480.000000</td>\n",
       "      <td>0.0</td>\n",
       "      <td>100.0</td>\n",
       "    </tr>\n",
       "    <tr>\n",
       "      <th>Tkl+Int_per90</th>\n",
       "      <td>0.0</td>\n",
       "      <td>180.000000</td>\n",
       "      <td>0.0</td>\n",
       "      <td>100.0</td>\n",
       "    </tr>\n",
       "    <tr>\n",
       "      <th>Recov_per90</th>\n",
       "      <td>0.0</td>\n",
       "      <td>90.000000</td>\n",
       "      <td>0.0</td>\n",
       "      <td>100.0</td>\n",
       "    </tr>\n",
       "    <tr>\n",
       "      <th>Clr_per90</th>\n",
       "      <td>0.0</td>\n",
       "      <td>90.000000</td>\n",
       "      <td>0.0</td>\n",
       "      <td>100.0</td>\n",
       "    </tr>\n",
       "    <tr>\n",
       "      <th>Touches_per90</th>\n",
       "      <td>0.0</td>\n",
       "      <td>810.000000</td>\n",
       "      <td>0.0</td>\n",
       "      <td>100.0</td>\n",
       "    </tr>\n",
       "    <tr>\n",
       "      <th>Save%</th>\n",
       "      <td>0.0</td>\n",
       "      <td>100.000000</td>\n",
       "      <td>0.0</td>\n",
       "      <td>100.0</td>\n",
       "    </tr>\n",
       "    <tr>\n",
       "      <th>PSxG_per90</th>\n",
       "      <td>0.0</td>\n",
       "      <td>3.315789</td>\n",
       "      <td>0.0</td>\n",
       "      <td>100.0</td>\n",
       "    </tr>\n",
       "    <tr>\n",
       "      <th>CS%</th>\n",
       "      <td>0.0</td>\n",
       "      <td>100.000000</td>\n",
       "      <td>0.0</td>\n",
       "      <td>100.0</td>\n",
       "    </tr>\n",
       "    <tr>\n",
       "      <th>Saves_per90</th>\n",
       "      <td>0.0</td>\n",
       "      <td>7.500000</td>\n",
       "      <td>0.0</td>\n",
       "      <td>100.0</td>\n",
       "    </tr>\n",
       "    <tr>\n",
       "      <th>Launch%</th>\n",
       "      <td>0.0</td>\n",
       "      <td>92.300000</td>\n",
       "      <td>0.0</td>\n",
       "      <td>92.3</td>\n",
       "    </tr>\n",
       "  </tbody>\n",
       "</table>\n",
       "</div>"
      ],
      "text/plain": [
       "               min_antes    max_antes  min_despues  max_despues\n",
       "MP                   1.0    38.000000          1.0         38.0\n",
       "Starts               0.0    38.000000          0.0         38.0\n",
       "Min                  1.0  3420.000000          0.0       3420.0\n",
       "90s                  0.0    38.000000          0.0         38.0\n",
       "Sh_per90             0.0    90.000000          0.0        100.0\n",
       "SCA_per90            0.0   180.000000          0.0        100.0\n",
       "1/3_per90            0.0    90.000000          0.0        100.0\n",
       "PrgP_per90           0.0    90.000000          0.0        100.0\n",
       "PrgC_per90           0.0    90.000000          0.0        100.0\n",
       "Carries_per90        0.0   450.000000          0.0        100.0\n",
       "Cmp%                 0.0   100.000000          0.0        100.0\n",
       "Cmp_per90            0.0   450.000000          0.0        100.0\n",
       "TotDist_per90        0.0  6480.000000          0.0        100.0\n",
       "Tkl+Int_per90        0.0   180.000000          0.0        100.0\n",
       "Recov_per90          0.0    90.000000          0.0        100.0\n",
       "Clr_per90            0.0    90.000000          0.0        100.0\n",
       "Touches_per90        0.0   810.000000          0.0        100.0\n",
       "Save%                0.0   100.000000          0.0        100.0\n",
       "PSxG_per90           0.0     3.315789          0.0        100.0\n",
       "CS%                  0.0   100.000000          0.0        100.0\n",
       "Saves_per90          0.0     7.500000          0.0        100.0\n",
       "Launch%              0.0    92.300000          0.0         92.3"
      ]
     },
     "execution_count": 65,
     "metadata": {},
     "output_type": "execute_result"
    }
   ],
   "source": [
    "# Comparación solo para columnas numéricas comunes\n",
    "cols_numericas_final = df_final.select_dtypes(include=\"number\").columns\n",
    "\n",
    "comparacion = pd.DataFrame({\n",
    "    \"min_antes\": df_per90[cols_numericas_final].describe().T[\"min\"],\n",
    "    \"max_antes\": df_per90[cols_numericas_final].describe().T[\"max\"],\n",
    "    \"min_despues\": df_final[cols_numericas_final].describe().T[\"min\"],\n",
    "    \"max_despues\": df_final[cols_numericas_final].describe().T[\"max\"]\n",
    "}).fillna(\"\")\n",
    "\n",
    "# Mostramos resultados principales\n",
    "print(f\"📊 Comparación de {len(cols_numericas_final)} métricas numéricas finales:\")\n",
    "comparacion.head(25)\n"
   ]
  },
  {
   "cell_type": "code",
   "execution_count": 66,
   "id": "5b5cf2a8",
   "metadata": {},
   "outputs": [
    {
     "data": {
      "image/png": "[encoded data removed]",
      "text/plain": [
       "<Figure size 1000x400 with 1 Axes>"
      ]
     },
     "metadata": {},
     "output_type": "display_data"
    }
   ],
   "source": [
    "import matplotlib.pyplot as plt\n",
    "\n",
    "cols_test = [c for c in df_final.select_dtypes(include=\"number\").columns if c.endswith(\"_per90\") or c.endswith(\"%\")]\n",
    "\n",
    "plt.figure(figsize=(10, 4))\n",
    "df_final[cols_test].max().sort_values().plot(kind='barh')\n",
    "plt.title(\"Distribución de máximos por métrica (esperado ≈ 100)\")\n",
    "plt.show()\n"
   ]
  },
  {
   "cell_type": "code",
   "execution_count": 67,
   "id": "e10b5058",
   "metadata": {},
   "outputs": [
    {
     "name": "stdout",
     "output_type": "stream",
     "text": [
      "✅ Filtrado completado: 1,589 jugadores ≥900 min\n",
      "✅ Dataset principal actualizado: data\\processed\\scouting_laliga_df_final_20251030.parquet\n",
      "📦 Copia de respaldo creada: scouting_laliga_df_final_20251030_backup.parquet\n",
      "📘 Diccionario actualizado: data_dictionary_20251030.csv\n",
      "✅ Metadatos actualizados correctamente.\n",
      "\n",
      "--- EXPORTACIÓN COMPLETA ---\n",
      "📁 Archivo principal: scouting_laliga_df_final_20251030.parquet\n",
      "📁 Diccionario: data_dictionary_20251030.csv\n",
      "📁 Metadatos: metadata_20251030.json\n",
      "📦 Copia de respaldo: scouting_laliga_df_final_20251030_backup.parquet\n",
      "----------------------------------------------\n",
      "🎯 Los datos ya están listos para Streamlit.\n",
      "⚠️ Columnas fuera de rango:\n",
      "              min     max\n",
      "Min         900.0  3420.0\n",
      "PSxG_per90    0.0   100.0\n"
     ]
    }
   ],
   "source": [
    "# ============================================================\n",
    "# 🏁 ETL FINAL — EXPORTACIÓN ACTUALIZADA PARA STREAMLIT (VERSIÓN FINAL)\n",
    "# ============================================================\n",
    "\n",
    "import pandas as pd\n",
    "import numpy as np\n",
    "import json\n",
    "from datetime import datetime\n",
    "from pathlib import Path\n",
    "\n",
    "# --- 1️⃣ Filtrado final por minutos ---\n",
    "def detectar_o_crear_minutos(df):\n",
    "    candidatos = [\"Min\", \"Minutes\", \"mins\", \"minutes\", \"Minutos\"]\n",
    "    col_min = next((c for c in candidatos if c in df.columns), None)\n",
    "    df = df.copy()\n",
    "\n",
    "    if col_min is None and \"90s\" in df.columns:\n",
    "        df[\"Min\"] = pd.to_numeric(df[\"90s\"], errors=\"coerce\") * 90\n",
    "        col_min = \"Min\"\n",
    "    elif col_min is None:\n",
    "        raise ValueError(\"No se encontró columna de minutos (ni 'Min' ni '90s').\")\n",
    "\n",
    "    df[col_min] = pd.to_numeric(df[col_min], errors=\"coerce\")\n",
    "    return df, col_min\n",
    "\n",
    "\n",
    "def filtrar_por_minutos(df, minimo=900):\n",
    "    df, minutos_col = detectar_o_crear_minutos(df)\n",
    "    df_filtrado = df[df[minutos_col] >= minimo].copy()\n",
    "    return df_filtrado, minutos_col\n",
    "\n",
    "\n",
    "df_filtrado, minutos_col = filtrar_por_minutos(df_final, minimo=900)\n",
    "print(f\"✅ Filtrado completado: {len(df_filtrado):,} jugadores ≥900 min\")\n",
    "\n",
    "# --- 2️⃣ Limpieza ligera antes de exportar ---\n",
    "if \"Age\" in df_filtrado.columns:\n",
    "    df_filtrado[\"Age\"] = pd.to_numeric(df_filtrado[\"Age\"].replace(\"N/A\", np.nan), errors=\"coerce\")\n",
    "if \"Born\" in df_filtrado.columns:\n",
    "    df_filtrado[\"Born\"] = df_filtrado[\"Born\"].astype(str).replace({\"nan\": \"N/A\", \"NaN\": \"N/A\"})\n",
    "\n",
    "# --- 3️⃣ Directorio destino ---\n",
    "destino = Path(\"data/processed\")\n",
    "destino.mkdir(parents=True, exist_ok=True)\n",
    "\n",
    "fecha_hoy = datetime.now().strftime(\"%Y%m%d\")\n",
    "nombre_base = f\"scouting_laliga_df_final_{fecha_hoy}\"\n",
    "\n",
    "# --- 4️⃣ Exportaciones principales ---\n",
    "try:\n",
    "    df_filtrado.to_parquet(destino / f\"{nombre_base}.parquet\", index=False, engine=\"pyarrow\")\n",
    "    print(f\"✅ Dataset principal actualizado: {destino / f'{nombre_base}.parquet'}\")\n",
    "except Exception as e:\n",
    "    print(f\"⚠️ Error al guardar Parquet ({e}). Guardando CSV de respaldo.\")\n",
    "    df_filtrado.to_csv(destino / f\"{nombre_base}.csv\", index=False, encoding=\"utf-8-sig\")\n",
    "\n",
    "# Backup con fecha completa\n",
    "backup_parquet = destino / f\"{nombre_base}_backup.parquet\"\n",
    "df_filtrado.to_parquet(backup_parquet, index=False, engine=\"pyarrow\")\n",
    "print(f\"📦 Copia de respaldo creada: {backup_parquet.name}\")\n",
    "\n",
    "# --- 5️⃣ Diccionario de datos ---\n",
    "data_dict = pd.DataFrame([\n",
    "    {\"column\": c, \"dtype\": str(df_filtrado[c].dtype)} for c in df_filtrado.columns\n",
    "])\n",
    "data_dict_path = destino / f\"data_dictionary_{fecha_hoy}.csv\"\n",
    "data_dict.to_csv(data_dict_path, index=False, encoding=\"utf-8-sig\")\n",
    "print(f\"📘 Diccionario actualizado: {data_dict_path.name}\")\n",
    "\n",
    "# --- 6️⃣ Metadatos ---\n",
    "metadata = {\n",
    "    \"created_at\": datetime.now().isoformat(timespec=\"seconds\"),\n",
    "    \"rows\": len(df_filtrado),\n",
    "    \"cols\": len(df_filtrado.columns),\n",
    "    \"filters\": {\"minutes_min\": 900},\n",
    "    \"scaling\": \"MinMax global (0–100, winsorized 1–99%)\",\n",
    "    \"source\": \"ETL_scaling_pipeline.ipynb\",\n",
    "    \"version\": fecha_hoy,\n",
    "}\n",
    "metadata_path = destino / f\"metadata_{fecha_hoy}.json\"\n",
    "with open(metadata_path, \"w\", encoding=\"utf-8\") as f:\n",
    "    json.dump(metadata, f, ensure_ascii=False, indent=2)\n",
    "\n",
    "print(\"✅ Metadatos actualizados correctamente.\")\n",
    "\n",
    "# --- 7️⃣ Resumen final ---\n",
    "print(\"\\n--- EXPORTACIÓN COMPLETA ---\")\n",
    "print(f\"📁 Archivo principal: {nombre_base}.parquet\")\n",
    "print(f\"📁 Diccionario: {data_dict_path.name}\")\n",
    "print(f\"📁 Metadatos: {metadata_path.name}\")\n",
    "print(f\"📦 Copia de respaldo: {backup_parquet.name}\")\n",
    "print(\"----------------------------------------------\")\n",
    "print(\"🎯 Los datos ya están listos para Streamlit.\")\n",
    "\n",
    "# --- 8️⃣ Control rápido de rango (verificación final) ---\n",
    "cols_num = df_filtrado.select_dtypes(include=\"number\").columns\n",
    "rangos = df_filtrado[cols_num].agg([\"min\", \"max\"]).T\n",
    "rangos_out = rangos[(rangos[\"min\"] < 0) | (rangos[\"max\"] > 100)]\n",
    "if rangos_out.empty:\n",
    "    print(\"✅ Todas las métricas están dentro del rango esperado (0–100).\")\n",
    "else:\n",
    "    print(\"⚠️ Columnas fuera de rango:\")\n",
    "    print(rangos_out)\n"
   ]
  }
 ],
 "metadata": {
  "kernelspec": {
   "display_name": "venv",
   "language": "python",
   "name": "python3"
  },
  "language_info": {
   "codemirror_mode": {
    "name": "ipython",
    "version": 3
   },
   "file_extension": ".py",
   "mimetype": "text/x-python",
   "name": "python",
   "nbconvert_exporter": "python",
   "pygments_lexer": "ipython3",
   "version": "3.11.9"
  }
 },
 "nbformat": 4,
 "nbformat_minor": 5
}
